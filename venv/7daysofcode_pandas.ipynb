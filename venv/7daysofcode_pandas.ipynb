{
 "cells": [
  {
   "cell_type": "markdown",
   "metadata": {},
   "source": [
    "# 0. BiBliotecas instaladas"
   ]
  },
  {
   "cell_type": "code",
   "execution_count": 1,
   "metadata": {},
   "outputs": [],
   "source": [
    "# !pip install ipykernel # para utilizar o jupyter notebook no vscode\n",
    "# !pip install pandas # a biblioteca numpy vem instalada nativamente com o pandas\n",
    "# !pip install pyarrow # requisitado para ler arquivos do tipo .parquet\n",
    "# !pip install datetime # fazer conversão dos tipos para data\n",
    "# !pip install matplotlib\n",
    "# !pip install seaborn"
   ]
  },
  {
   "cell_type": "markdown",
   "metadata": {},
   "source": [
    "# 1. Importando as Bibiotecas"
   ]
  },
  {
   "cell_type": "code",
   "execution_count": 2,
   "metadata": {},
   "outputs": [],
   "source": [
    "%matplotlib inline"
   ]
  },
  {
   "cell_type": "code",
   "execution_count": 3,
   "metadata": {},
   "outputs": [],
   "source": [
    "import pandas as pd\n",
    "import time\n",
    "from datetime import date\n",
    "import matplotlib.pyplot as plt\n",
    "import matplotlib.ticker as ticker\n",
    "import seaborn as sns\n"
   ]
  },
  {
   "cell_type": "markdown",
   "metadata": {},
   "source": [
    "# 2. Carregando os arquivos"
   ]
  },
  {
   "cell_type": "markdown",
   "metadata": {},
   "source": [
    "## 2.1. Carregando o arquivo .parquet importado do github"
   ]
  },
  {
   "cell_type": "code",
   "execution_count": 4,
   "metadata": {},
   "outputs": [
    {
     "data": {
      "text/html": [
       "<div>\n",
       "<style scoped>\n",
       "    .dataframe tbody tr th:only-of-type {\n",
       "        vertical-align: middle;\n",
       "    }\n",
       "\n",
       "    .dataframe tbody tr th {\n",
       "        vertical-align: top;\n",
       "    }\n",
       "\n",
       "    .dataframe thead th {\n",
       "        text-align: right;\n",
       "    }\n",
       "</style>\n",
       "<table border=\"1\" class=\"dataframe\">\n",
       "  <thead>\n",
       "    <tr style=\"text-align: right;\">\n",
       "      <th></th>\n",
       "      <th>id_exemplar</th>\n",
       "      <th>codigo_barras</th>\n",
       "      <th>colecao</th>\n",
       "      <th>biblioteca</th>\n",
       "      <th>status_material</th>\n",
       "      <th>localizacao</th>\n",
       "      <th>registro_sistema</th>\n",
       "    </tr>\n",
       "    <tr>\n",
       "      <th>index</th>\n",
       "      <th></th>\n",
       "      <th></th>\n",
       "      <th></th>\n",
       "      <th></th>\n",
       "      <th></th>\n",
       "      <th></th>\n",
       "      <th></th>\n",
       "    </tr>\n",
       "  </thead>\n",
       "  <tbody>\n",
       "    <tr>\n",
       "      <th>0</th>\n",
       "      <td>5</td>\n",
       "      <td>L000003</td>\n",
       "      <td>Acervo Circulante</td>\n",
       "      <td>Biblioteca Central Zila Mamede</td>\n",
       "      <td>REGULAR</td>\n",
       "      <td>694</td>\n",
       "      <td>1</td>\n",
       "    </tr>\n",
       "    <tr>\n",
       "      <th>1</th>\n",
       "      <td>4</td>\n",
       "      <td>L000002</td>\n",
       "      <td>Acervo Circulante</td>\n",
       "      <td>Biblioteca Central Zila Mamede</td>\n",
       "      <td>REGULAR</td>\n",
       "      <td>688</td>\n",
       "      <td>1</td>\n",
       "    </tr>\n",
       "    <tr>\n",
       "      <th>2</th>\n",
       "      <td>3</td>\n",
       "      <td>L000001</td>\n",
       "      <td>Acervo Circulante</td>\n",
       "      <td>Biblioteca Central Zila Mamede</td>\n",
       "      <td>ESPECIAL</td>\n",
       "      <td>638</td>\n",
       "      <td>1</td>\n",
       "    </tr>\n",
       "    <tr>\n",
       "      <th>3</th>\n",
       "      <td>7</td>\n",
       "      <td>L000114</td>\n",
       "      <td>Acervo Circulante</td>\n",
       "      <td>Biblioteca Central Zila Mamede</td>\n",
       "      <td>REGULAR</td>\n",
       "      <td>616</td>\n",
       "      <td>5</td>\n",
       "    </tr>\n",
       "    <tr>\n",
       "      <th>5</th>\n",
       "      <td>10</td>\n",
       "      <td>L000041</td>\n",
       "      <td>Acervo Circulante</td>\n",
       "      <td>Biblioteca Central Zila Mamede</td>\n",
       "      <td>ESPECIAL</td>\n",
       "      <td>657</td>\n",
       "      <td>15</td>\n",
       "    </tr>\n",
       "  </tbody>\n",
       "</table>\n",
       "</div>"
      ],
      "text/plain": [
       "       id_exemplar codigo_barras            colecao  \\\n",
       "index                                                 \n",
       "0                5       L000003  Acervo Circulante   \n",
       "1                4       L000002  Acervo Circulante   \n",
       "2                3       L000001  Acervo Circulante   \n",
       "3                7       L000114  Acervo Circulante   \n",
       "5               10       L000041  Acervo Circulante   \n",
       "\n",
       "                           biblioteca status_material  localizacao  \\\n",
       "index                                                                \n",
       "0      Biblioteca Central Zila Mamede         REGULAR          694   \n",
       "1      Biblioteca Central Zila Mamede         REGULAR          688   \n",
       "2      Biblioteca Central Zila Mamede        ESPECIAL          638   \n",
       "3      Biblioteca Central Zila Mamede         REGULAR          616   \n",
       "5      Biblioteca Central Zila Mamede        ESPECIAL          657   \n",
       "\n",
       "       registro_sistema  \n",
       "index                    \n",
       "0                     1  \n",
       "1                     1  \n",
       "2                     1  \n",
       "3                     5  \n",
       "5                    15  "
      ]
     },
     "execution_count": 4,
     "metadata": {},
     "output_type": "execute_result"
    }
   ],
   "source": [
    "arquivo_parquet = r'C:\\Users\\Eduardo Socca\\OneDrive\\Cursos online\\Alura\\7daysofcode\\python - pandas desafio 1\\venv\\dados_exemplares.parquet'\n",
    "dados_exemplares = pd.read_parquet(arquivo_parquet)\n",
    "\n",
    "dados_exemplares.head()"
   ]
  },
  {
   "cell_type": "markdown",
   "metadata": {},
   "source": [
    "## 2.2. Importando os arquivos .csv diretamente do github"
   ]
  },
  {
   "cell_type": "code",
   "execution_count": 5,
   "metadata": {},
   "outputs": [],
   "source": [
    "# Durante a execução deste projeto, foram verificados 21 arquivos csv no link disponibilizado\n",
    "emprestimos_20101 = 'https://github.com/FranciscoFoz/7_Days_of_Code_Alura-Python-Pandas/blob/main/Dia_1-Importando_dados/Datasets/dados_emprestimos/emprestimos-20101.csv'\n",
    "emprestimos_20102 = 'https://github.com/FranciscoFoz/7_Days_of_Code_Alura-Python-Pandas/blob/main/Dia_1-Importando_dados/Datasets/dados_emprestimos/emprestimos-20102.csv'\n",
    "emprestimos_20111 = 'https://github.com/FranciscoFoz/7_Days_of_Code_Alura-Python-Pandas/blob/main/Dia_1-Importando_dados/Datasets/dados_emprestimos/emprestimos-20111.csv'\n",
    "emprestimos_20112 = 'https://github.com/FranciscoFoz/7_Days_of_Code_Alura-Python-Pandas/blob/main/Dia_1-Importando_dados/Datasets/dados_emprestimos/emprestimos-20112.csv'\n",
    "emprestimos_20121 = 'https://github.com/FranciscoFoz/7_Days_of_Code_Alura-Python-Pandas/blob/main/Dia_1-Importando_dados/Datasets/dados_emprestimos/emprestimos-20121.csv'\n",
    "emprestimos_20122 = 'https://github.com/FranciscoFoz/7_Days_of_Code_Alura-Python-Pandas/blob/main/Dia_1-Importando_dados/Datasets/dados_emprestimos/emprestimos-20122.csv'\n",
    "emprestimos_20131 = 'https://github.com/FranciscoFoz/7_Days_of_Code_Alura-Python-Pandas/blob/main/Dia_1-Importando_dados/Datasets/dados_emprestimos/emprestimos-20131.csv'\n",
    "emprestimos_20132 = 'https://github.com/FranciscoFoz/7_Days_of_Code_Alura-Python-Pandas/blob/main/Dia_1-Importando_dados/Datasets/dados_emprestimos/emprestimos-20132.csv'\n",
    "emprestimos_20141 = 'https://github.com/FranciscoFoz/7_Days_of_Code_Alura-Python-Pandas/blob/main/Dia_1-Importando_dados/Datasets/dados_emprestimos/emprestimos-20141.csv'\n",
    "emprestimos_20142 = 'https://github.com/FranciscoFoz/7_Days_of_Code_Alura-Python-Pandas/blob/main/Dia_1-Importando_dados/Datasets/dados_emprestimos/emprestimos-20142.csv'\n",
    "emprestimos_20151 = 'https://github.com/FranciscoFoz/7_Days_of_Code_Alura-Python-Pandas/blob/main/Dia_1-Importando_dados/Datasets/dados_emprestimos/emprestimos-20151.csv'\n",
    "emprestimos_20152 = 'https://github.com/FranciscoFoz/7_Days_of_Code_Alura-Python-Pandas/blob/main/Dia_1-Importando_dados/Datasets/dados_emprestimos/emprestimos-20152.csv'\n",
    "emprestimos_20161 = 'https://github.com/FranciscoFoz/7_Days_of_Code_Alura-Python-Pandas/blob/main/Dia_1-Importando_dados/Datasets/dados_emprestimos/emprestimos-20161.csv'\n",
    "emprestimos_20162 = 'https://github.com/FranciscoFoz/7_Days_of_Code_Alura-Python-Pandas/blob/main/Dia_1-Importando_dados/Datasets/dados_emprestimos/emprestimos-20162.csv'\n",
    "emprestimos_20171 = 'https://github.com/FranciscoFoz/7_Days_of_Code_Alura-Python-Pandas/blob/main/Dia_1-Importando_dados/Datasets/dados_emprestimos/emprestimos-20171.csv'\n",
    "emprestimos_20172 = 'https://github.com/FranciscoFoz/7_Days_of_Code_Alura-Python-Pandas/blob/main/Dia_1-Importando_dados/Datasets/dados_emprestimos/emprestimos-20172.csv'\n",
    "emprestimos_20181 = 'https://github.com/FranciscoFoz/7_Days_of_Code_Alura-Python-Pandas/blob/main/Dia_1-Importando_dados/Datasets/dados_emprestimos/emprestimos-20181.csv'\n",
    "emprestimos_20182 = 'https://github.com/FranciscoFoz/7_Days_of_Code_Alura-Python-Pandas/blob/main/Dia_1-Importando_dados/Datasets/dados_emprestimos/emprestimos-20182.csv'\n",
    "emprestimos_20191 = 'https://github.com/FranciscoFoz/7_Days_of_Code_Alura-Python-Pandas/blob/main/Dia_1-Importando_dados/Datasets/dados_emprestimos/emprestimos-20191.csv'\n",
    "emprestimos_20192 = 'https://github.com/FranciscoFoz/7_Days_of_Code_Alura-Python-Pandas/blob/main/Dia_1-Importando_dados/Datasets/dados_emprestimos/emprestimos-20192.csv'\n",
    "emprestimos_20201 = 'https://github.com/FranciscoFoz/7_Days_of_Code_Alura-Python-Pandas/blob/main/Dia_1-Importando_dados/Datasets/dados_emprestimos/emprestimos-20201.csv'\n"
   ]
  },
  {
   "cell_type": "code",
   "execution_count": 6,
   "metadata": {},
   "outputs": [],
   "source": [
    "# transformando os arquivos em uma lista\n",
    "\n",
    "lista_emprestimos = [emprestimos_20101,\n",
    "                     emprestimos_20102,\n",
    "                     emprestimos_20111,\n",
    "                     emprestimos_20112,\n",
    "                     emprestimos_20121,\n",
    "                     emprestimos_20122,\n",
    "                     emprestimos_20131,\n",
    "                     emprestimos_20132,\n",
    "                     emprestimos_20141,\n",
    "                     emprestimos_20142,\n",
    "                     emprestimos_20151,\n",
    "                     emprestimos_20152,\n",
    "                     emprestimos_20161,\n",
    "                     emprestimos_20162,\n",
    "                     emprestimos_20171,\n",
    "                     emprestimos_20172,\n",
    "                     emprestimos_20181,\n",
    "                     emprestimos_20182,\n",
    "                     emprestimos_20191,\n",
    "                     emprestimos_20192,\n",
    "                     emprestimos_20201\n",
    "\n",
    "    \n",
    "]"
   ]
  },
  {
   "cell_type": "code",
   "execution_count": 7,
   "metadata": {},
   "outputs": [
    {
     "name": "stdout",
     "output_type": "stream",
     "text": [
      "['https://github.com/FranciscoFoz/7_Days_of_Code_Alura-Python-Pandas/blob/main/Dia_1-Importando_dados/Datasets/dados_emprestimos/emprestimos-20101.csv', 'https://github.com/FranciscoFoz/7_Days_of_Code_Alura-Python-Pandas/blob/main/Dia_1-Importando_dados/Datasets/dados_emprestimos/emprestimos-20102.csv', 'https://github.com/FranciscoFoz/7_Days_of_Code_Alura-Python-Pandas/blob/main/Dia_1-Importando_dados/Datasets/dados_emprestimos/emprestimos-20111.csv', 'https://github.com/FranciscoFoz/7_Days_of_Code_Alura-Python-Pandas/blob/main/Dia_1-Importando_dados/Datasets/dados_emprestimos/emprestimos-20112.csv', 'https://github.com/FranciscoFoz/7_Days_of_Code_Alura-Python-Pandas/blob/main/Dia_1-Importando_dados/Datasets/dados_emprestimos/emprestimos-20121.csv', 'https://github.com/FranciscoFoz/7_Days_of_Code_Alura-Python-Pandas/blob/main/Dia_1-Importando_dados/Datasets/dados_emprestimos/emprestimos-20122.csv', 'https://github.com/FranciscoFoz/7_Days_of_Code_Alura-Python-Pandas/blob/main/Dia_1-Importando_dados/Datasets/dados_emprestimos/emprestimos-20131.csv', 'https://github.com/FranciscoFoz/7_Days_of_Code_Alura-Python-Pandas/blob/main/Dia_1-Importando_dados/Datasets/dados_emprestimos/emprestimos-20132.csv', 'https://github.com/FranciscoFoz/7_Days_of_Code_Alura-Python-Pandas/blob/main/Dia_1-Importando_dados/Datasets/dados_emprestimos/emprestimos-20141.csv', 'https://github.com/FranciscoFoz/7_Days_of_Code_Alura-Python-Pandas/blob/main/Dia_1-Importando_dados/Datasets/dados_emprestimos/emprestimos-20142.csv', 'https://github.com/FranciscoFoz/7_Days_of_Code_Alura-Python-Pandas/blob/main/Dia_1-Importando_dados/Datasets/dados_emprestimos/emprestimos-20151.csv', 'https://github.com/FranciscoFoz/7_Days_of_Code_Alura-Python-Pandas/blob/main/Dia_1-Importando_dados/Datasets/dados_emprestimos/emprestimos-20152.csv', 'https://github.com/FranciscoFoz/7_Days_of_Code_Alura-Python-Pandas/blob/main/Dia_1-Importando_dados/Datasets/dados_emprestimos/emprestimos-20161.csv', 'https://github.com/FranciscoFoz/7_Days_of_Code_Alura-Python-Pandas/blob/main/Dia_1-Importando_dados/Datasets/dados_emprestimos/emprestimos-20162.csv', 'https://github.com/FranciscoFoz/7_Days_of_Code_Alura-Python-Pandas/blob/main/Dia_1-Importando_dados/Datasets/dados_emprestimos/emprestimos-20171.csv', 'https://github.com/FranciscoFoz/7_Days_of_Code_Alura-Python-Pandas/blob/main/Dia_1-Importando_dados/Datasets/dados_emprestimos/emprestimos-20172.csv', 'https://github.com/FranciscoFoz/7_Days_of_Code_Alura-Python-Pandas/blob/main/Dia_1-Importando_dados/Datasets/dados_emprestimos/emprestimos-20181.csv', 'https://github.com/FranciscoFoz/7_Days_of_Code_Alura-Python-Pandas/blob/main/Dia_1-Importando_dados/Datasets/dados_emprestimos/emprestimos-20182.csv', 'https://github.com/FranciscoFoz/7_Days_of_Code_Alura-Python-Pandas/blob/main/Dia_1-Importando_dados/Datasets/dados_emprestimos/emprestimos-20191.csv', 'https://github.com/FranciscoFoz/7_Days_of_Code_Alura-Python-Pandas/blob/main/Dia_1-Importando_dados/Datasets/dados_emprestimos/emprestimos-20192.csv', 'https://github.com/FranciscoFoz/7_Days_of_Code_Alura-Python-Pandas/blob/main/Dia_1-Importando_dados/Datasets/dados_emprestimos/emprestimos-20201.csv']\n"
     ]
    }
   ],
   "source": [
    "print(lista_emprestimos)"
   ]
  },
  {
   "cell_type": "code",
   "execution_count": 8,
   "metadata": {},
   "outputs": [],
   "source": [
    "# Como é possivel notar, a url está com o trecho '/blob/' que não exibe exatamente os arquivos .csv.\n",
    "# Desta forma, vamos substituir '/blob/' por '/raw/'\n",
    "\n",
    "urls_csv = [url.replace('/blob/', '/raw/') for url in lista_emprestimos]\n"
   ]
  },
  {
   "cell_type": "code",
   "execution_count": 9,
   "metadata": {},
   "outputs": [],
   "source": [
    "# vamos criar agora uma lista vazia para armazenar os dataframes\n",
    "\n",
    "dfs = []\n",
    "\n",
    "# Criar um loop para ler os arquivos csv e armazenar no dataframe\n",
    "for url in urls_csv:\n",
    "    df = pd.read_csv(url)\n",
    "    dfs.append(df)"
   ]
  },
  {
   "cell_type": "code",
   "execution_count": 10,
   "metadata": {},
   "outputs": [
    {
     "data": {
      "text/html": [
       "<div>\n",
       "<style scoped>\n",
       "    .dataframe tbody tr th:only-of-type {\n",
       "        vertical-align: middle;\n",
       "    }\n",
       "\n",
       "    .dataframe tbody tr th {\n",
       "        vertical-align: top;\n",
       "    }\n",
       "\n",
       "    .dataframe thead th {\n",
       "        text-align: right;\n",
       "    }\n",
       "</style>\n",
       "<table border=\"1\" class=\"dataframe\">\n",
       "  <thead>\n",
       "    <tr style=\"text-align: right;\">\n",
       "      <th></th>\n",
       "      <th>id_emprestimo</th>\n",
       "      <th>codigo_barras</th>\n",
       "      <th>data_renovacao</th>\n",
       "      <th>data_emprestimo</th>\n",
       "      <th>data_devolucao</th>\n",
       "      <th>matricula_ou_siape</th>\n",
       "      <th>tipo_vinculo_usuario</th>\n",
       "    </tr>\n",
       "  </thead>\n",
       "  <tbody>\n",
       "    <tr>\n",
       "      <th>0</th>\n",
       "      <td>709684</td>\n",
       "      <td>L095049</td>\n",
       "      <td>NaN</td>\n",
       "      <td>2010/01/04 07:44:10.721000000</td>\n",
       "      <td>2010/01/05 16:26:12.662000000</td>\n",
       "      <td>2.008023e+09</td>\n",
       "      <td>ALUNO DE GRADUAÇÃO</td>\n",
       "    </tr>\n",
       "    <tr>\n",
       "      <th>1</th>\n",
       "      <td>709685</td>\n",
       "      <td>L167050</td>\n",
       "      <td>NaN</td>\n",
       "      <td>2010/01/04 07:44:10.750000000</td>\n",
       "      <td>2010/01/12 07:34:13.934000000</td>\n",
       "      <td>2.008023e+09</td>\n",
       "      <td>ALUNO DE GRADUAÇÃO</td>\n",
       "    </tr>\n",
       "    <tr>\n",
       "      <th>2</th>\n",
       "      <td>709686</td>\n",
       "      <td>2006017618</td>\n",
       "      <td>2010/01/26 08:07:01.738000000</td>\n",
       "      <td>2010/01/04 08:08:44.081000000</td>\n",
       "      <td>2010/02/25 07:36:25.800000000</td>\n",
       "      <td>2.008112e+09</td>\n",
       "      <td>ALUNO DE PÓS-GRADUAÇÃO</td>\n",
       "    </tr>\n",
       "    <tr>\n",
       "      <th>3</th>\n",
       "      <td>709687</td>\n",
       "      <td>L184117</td>\n",
       "      <td>2010/01/18 11:07:46.470000000</td>\n",
       "      <td>2010/01/04 08:24:21.284000000</td>\n",
       "      <td>2010/02/03 08:58:45.692000000</td>\n",
       "      <td>2.007211e+08</td>\n",
       "      <td>ALUNO DE GRADUAÇÃO</td>\n",
       "    </tr>\n",
       "    <tr>\n",
       "      <th>4</th>\n",
       "      <td>709684</td>\n",
       "      <td>L095049</td>\n",
       "      <td>NaN</td>\n",
       "      <td>2010/01/04 07:44:10.721000000</td>\n",
       "      <td>2010/01/05 16:26:12.662000000</td>\n",
       "      <td>2.008023e+09</td>\n",
       "      <td>ALUNO DE GRADUAÇÃO</td>\n",
       "    </tr>\n",
       "  </tbody>\n",
       "</table>\n",
       "</div>"
      ],
      "text/plain": [
       "   id_emprestimo codigo_barras                 data_renovacao  \\\n",
       "0         709684       L095049                            NaN   \n",
       "1         709685       L167050                            NaN   \n",
       "2         709686    2006017618  2010/01/26 08:07:01.738000000   \n",
       "3         709687       L184117  2010/01/18 11:07:46.470000000   \n",
       "4         709684       L095049                            NaN   \n",
       "\n",
       "                 data_emprestimo                 data_devolucao  \\\n",
       "0  2010/01/04 07:44:10.721000000  2010/01/05 16:26:12.662000000   \n",
       "1  2010/01/04 07:44:10.750000000  2010/01/12 07:34:13.934000000   \n",
       "2  2010/01/04 08:08:44.081000000  2010/02/25 07:36:25.800000000   \n",
       "3  2010/01/04 08:24:21.284000000  2010/02/03 08:58:45.692000000   \n",
       "4  2010/01/04 07:44:10.721000000  2010/01/05 16:26:12.662000000   \n",
       "\n",
       "   matricula_ou_siape    tipo_vinculo_usuario  \n",
       "0        2.008023e+09      ALUNO DE GRADUAÇÃO  \n",
       "1        2.008023e+09      ALUNO DE GRADUAÇÃO  \n",
       "2        2.008112e+09  ALUNO DE PÓS-GRADUAÇÃO  \n",
       "3        2.007211e+08      ALUNO DE GRADUAÇÃO  \n",
       "4        2.008023e+09      ALUNO DE GRADUAÇÃO  "
      ]
     },
     "execution_count": 10,
     "metadata": {},
     "output_type": "execute_result"
    }
   ],
   "source": [
    "# concatenando todos os dataframes em um dataframe único\n",
    "\n",
    "dados_emprestimos = pd.concat(dfs, ignore_index=True)\n",
    "\n",
    "# Exibindo o dataframe final\n",
    "dados_emprestimos.head()"
   ]
  },
  {
   "cell_type": "markdown",
   "metadata": {},
   "source": [
    "## 2.3. Unindo os dois dataframes -> acervo e emprestimos"
   ]
  },
  {
   "cell_type": "code",
   "execution_count": 11,
   "metadata": {},
   "outputs": [
    {
     "data": {
      "text/plain": [
       "Index(['id_emprestimo', 'codigo_barras', 'data_renovacao', 'data_emprestimo',\n",
       "       'data_devolucao', 'matricula_ou_siape', 'tipo_vinculo_usuario'],\n",
       "      dtype='object')"
      ]
     },
     "execution_count": 11,
     "metadata": {},
     "output_type": "execute_result"
    }
   ],
   "source": [
    "dados_emprestimos.columns"
   ]
  },
  {
   "cell_type": "code",
   "execution_count": 12,
   "metadata": {},
   "outputs": [
    {
     "data": {
      "text/plain": [
       "Index(['id_exemplar', 'codigo_barras', 'colecao', 'biblioteca',\n",
       "       'status_material', 'localizacao', 'registro_sistema'],\n",
       "      dtype='object')"
      ]
     },
     "execution_count": 12,
     "metadata": {},
     "output_type": "execute_result"
    }
   ],
   "source": [
    "dados_exemplares.columns"
   ]
  },
  {
   "cell_type": "code",
   "execution_count": 13,
   "metadata": {},
   "outputs": [
    {
     "data": {
      "text/html": [
       "<div>\n",
       "<style scoped>\n",
       "    .dataframe tbody tr th:only-of-type {\n",
       "        vertical-align: middle;\n",
       "    }\n",
       "\n",
       "    .dataframe tbody tr th {\n",
       "        vertical-align: top;\n",
       "    }\n",
       "\n",
       "    .dataframe thead th {\n",
       "        text-align: right;\n",
       "    }\n",
       "</style>\n",
       "<table border=\"1\" class=\"dataframe\">\n",
       "  <thead>\n",
       "    <tr style=\"text-align: right;\">\n",
       "      <th></th>\n",
       "      <th>id_exemplar</th>\n",
       "      <th>codigo_barras</th>\n",
       "      <th>colecao</th>\n",
       "      <th>biblioteca</th>\n",
       "      <th>status_material</th>\n",
       "      <th>localizacao</th>\n",
       "      <th>registro_sistema</th>\n",
       "      <th>id_emprestimo</th>\n",
       "      <th>data_renovacao</th>\n",
       "      <th>data_emprestimo</th>\n",
       "      <th>data_devolucao</th>\n",
       "      <th>matricula_ou_siape</th>\n",
       "      <th>tipo_vinculo_usuario</th>\n",
       "    </tr>\n",
       "  </thead>\n",
       "  <tbody>\n",
       "    <tr>\n",
       "      <th>0</th>\n",
       "      <td>27</td>\n",
       "      <td>L000133_11/05/2018 08:57:56</td>\n",
       "      <td>Acervo Circulante</td>\n",
       "      <td>Biblioteca Central Zila Mamede</td>\n",
       "      <td>REGULAR</td>\n",
       "      <td>691</td>\n",
       "      <td>37</td>\n",
       "      <td>818501</td>\n",
       "      <td>NaN</td>\n",
       "      <td>2010/08/17 17:00:04.440000000</td>\n",
       "      <td>2010/08/17 17:09:15.000000000</td>\n",
       "      <td>2.010060e+09</td>\n",
       "      <td>ALUNO DE GRADUAÇÃO</td>\n",
       "    </tr>\n",
       "    <tr>\n",
       "      <th>1</th>\n",
       "      <td>43</td>\n",
       "      <td>L000154</td>\n",
       "      <td>Acervo Circulante</td>\n",
       "      <td>Biblioteca Central Zila Mamede</td>\n",
       "      <td>REGULAR</td>\n",
       "      <td>616</td>\n",
       "      <td>59</td>\n",
       "      <td>2037061</td>\n",
       "      <td>2015/08/24 21:55:47.110000000</td>\n",
       "      <td>2015/08/03 10:39:42.972000000</td>\n",
       "      <td>2015/10/19 08:52:30.000000000</td>\n",
       "      <td>2.013034e+09</td>\n",
       "      <td>ALUNO DE GRADUAÇÃO</td>\n",
       "    </tr>\n",
       "    <tr>\n",
       "      <th>2</th>\n",
       "      <td>61</td>\n",
       "      <td>L000267_14/07/2017 09:31:00</td>\n",
       "      <td>Dissertações</td>\n",
       "      <td>Biblioteca Central Zila Mamede</td>\n",
       "      <td>ESPECIAL</td>\n",
       "      <td>690</td>\n",
       "      <td>90</td>\n",
       "      <td>1212301</td>\n",
       "      <td>NaN</td>\n",
       "      <td>2012/03/30 14:35:52.264000000</td>\n",
       "      <td>2012/04/02 17:06:11.000000000</td>\n",
       "      <td>2.011096e+09</td>\n",
       "      <td>ALUNO DE GRADUAÇÃO</td>\n",
       "    </tr>\n",
       "    <tr>\n",
       "      <th>3</th>\n",
       "      <td>100</td>\n",
       "      <td>L144235</td>\n",
       "      <td>Acervo Circulante</td>\n",
       "      <td>Biblioteca Central Zila Mamede</td>\n",
       "      <td>REGULAR</td>\n",
       "      <td>650</td>\n",
       "      <td>153</td>\n",
       "      <td>775420</td>\n",
       "      <td>2010/05/31 00:35:54.869000000</td>\n",
       "      <td>2010/05/14 17:58:11.558000000</td>\n",
       "      <td>2010/06/17 19:34:11.000000000</td>\n",
       "      <td>2.004286e+08</td>\n",
       "      <td>ALUNO DE GRADUAÇÃO</td>\n",
       "    </tr>\n",
       "    <tr>\n",
       "      <th>4</th>\n",
       "      <td>100</td>\n",
       "      <td>L144235</td>\n",
       "      <td>Acervo Circulante</td>\n",
       "      <td>Biblioteca Central Zila Mamede</td>\n",
       "      <td>REGULAR</td>\n",
       "      <td>650</td>\n",
       "      <td>153</td>\n",
       "      <td>800617</td>\n",
       "      <td>2010/07/21 11:39:18.519000000</td>\n",
       "      <td>2010/07/06 12:24:32.049000000</td>\n",
       "      <td>2010/08/09 17:54:20.000000000</td>\n",
       "      <td>2.008032e+09</td>\n",
       "      <td>ALUNO DE GRADUAÇÃO</td>\n",
       "    </tr>\n",
       "  </tbody>\n",
       "</table>\n",
       "</div>"
      ],
      "text/plain": [
       "   id_exemplar                codigo_barras            colecao  \\\n",
       "0           27  L000133_11/05/2018 08:57:56  Acervo Circulante   \n",
       "1           43                      L000154  Acervo Circulante   \n",
       "2           61  L000267_14/07/2017 09:31:00       Dissertações   \n",
       "3          100                      L144235  Acervo Circulante   \n",
       "4          100                      L144235  Acervo Circulante   \n",
       "\n",
       "                       biblioteca status_material  localizacao  \\\n",
       "0  Biblioteca Central Zila Mamede         REGULAR          691   \n",
       "1  Biblioteca Central Zila Mamede         REGULAR          616   \n",
       "2  Biblioteca Central Zila Mamede        ESPECIAL          690   \n",
       "3  Biblioteca Central Zila Mamede         REGULAR          650   \n",
       "4  Biblioteca Central Zila Mamede         REGULAR          650   \n",
       "\n",
       "   registro_sistema  id_emprestimo                 data_renovacao  \\\n",
       "0                37         818501                            NaN   \n",
       "1                59        2037061  2015/08/24 21:55:47.110000000   \n",
       "2                90        1212301                            NaN   \n",
       "3               153         775420  2010/05/31 00:35:54.869000000   \n",
       "4               153         800617  2010/07/21 11:39:18.519000000   \n",
       "\n",
       "                 data_emprestimo                 data_devolucao  \\\n",
       "0  2010/08/17 17:00:04.440000000  2010/08/17 17:09:15.000000000   \n",
       "1  2015/08/03 10:39:42.972000000  2015/10/19 08:52:30.000000000   \n",
       "2  2012/03/30 14:35:52.264000000  2012/04/02 17:06:11.000000000   \n",
       "3  2010/05/14 17:58:11.558000000  2010/06/17 19:34:11.000000000   \n",
       "4  2010/07/06 12:24:32.049000000  2010/08/09 17:54:20.000000000   \n",
       "\n",
       "   matricula_ou_siape tipo_vinculo_usuario  \n",
       "0        2.010060e+09   ALUNO DE GRADUAÇÃO  \n",
       "1        2.013034e+09   ALUNO DE GRADUAÇÃO  \n",
       "2        2.011096e+09   ALUNO DE GRADUAÇÃO  \n",
       "3        2.004286e+08   ALUNO DE GRADUAÇÃO  \n",
       "4        2.008032e+09   ALUNO DE GRADUAÇÃO  "
      ]
     },
     "execution_count": 13,
     "metadata": {},
     "output_type": "execute_result"
    }
   ],
   "source": [
    "dados_acervo = pd.merge(dados_exemplares, dados_emprestimos, on='codigo_barras', how='inner')\n",
    "dados_acervo.head()"
   ]
  },
  {
   "cell_type": "code",
   "execution_count": 14,
   "metadata": {},
   "outputs": [],
   "source": [
    "reordenando = ['id_emprestimo','colecao', 'biblioteca', 'status_material', 'localizacao', 'registro_sistema','data_emprestimo', 'data_devolucao','data_renovacao', 'matricula_ou_siape', 'tipo_vinculo_usuario']\n",
    "dados_acervo = dados_acervo[reordenando]"
   ]
  },
  {
   "cell_type": "code",
   "execution_count": 15,
   "metadata": {},
   "outputs": [
    {
     "data": {
      "text/plain": [
       "Index(['id_emprestimo', 'colecao', 'biblioteca', 'status_material',\n",
       "       'localizacao', 'registro_sistema', 'data_emprestimo', 'data_devolucao',\n",
       "       'data_renovacao', 'matricula_ou_siape', 'tipo_vinculo_usuario'],\n",
       "      dtype='object')"
      ]
     },
     "execution_count": 15,
     "metadata": {},
     "output_type": "execute_result"
    }
   ],
   "source": [
    "dados_acervo.columns"
   ]
  },
  {
   "cell_type": "markdown",
   "metadata": {},
   "source": [
    "# 3. Limpeza dos dados"
   ]
  },
  {
   "cell_type": "markdown",
   "metadata": {},
   "source": [
    "## 3.1. Excluindo duplicatas"
   ]
  },
  {
   "cell_type": "code",
   "execution_count": 16,
   "metadata": {},
   "outputs": [
    {
     "data": {
      "text/html": [
       "<div>\n",
       "<style scoped>\n",
       "    .dataframe tbody tr th:only-of-type {\n",
       "        vertical-align: middle;\n",
       "    }\n",
       "\n",
       "    .dataframe tbody tr th {\n",
       "        vertical-align: top;\n",
       "    }\n",
       "\n",
       "    .dataframe thead th {\n",
       "        text-align: right;\n",
       "    }\n",
       "</style>\n",
       "<table border=\"1\" class=\"dataframe\">\n",
       "  <thead>\n",
       "    <tr style=\"text-align: right;\">\n",
       "      <th></th>\n",
       "      <th>id_emprestimo</th>\n",
       "      <th>colecao</th>\n",
       "      <th>biblioteca</th>\n",
       "      <th>status_material</th>\n",
       "      <th>localizacao</th>\n",
       "      <th>registro_sistema</th>\n",
       "      <th>data_emprestimo</th>\n",
       "      <th>data_devolucao</th>\n",
       "      <th>data_renovacao</th>\n",
       "      <th>matricula_ou_siape</th>\n",
       "      <th>tipo_vinculo_usuario</th>\n",
       "    </tr>\n",
       "  </thead>\n",
       "  <tbody>\n",
       "    <tr>\n",
       "      <th>0</th>\n",
       "      <td>818501</td>\n",
       "      <td>Acervo Circulante</td>\n",
       "      <td>Biblioteca Central Zila Mamede</td>\n",
       "      <td>REGULAR</td>\n",
       "      <td>691</td>\n",
       "      <td>37</td>\n",
       "      <td>2010/08/17 17:00:04.440000000</td>\n",
       "      <td>2010/08/17 17:09:15.000000000</td>\n",
       "      <td>NaN</td>\n",
       "      <td>2.010060e+09</td>\n",
       "      <td>ALUNO DE GRADUAÇÃO</td>\n",
       "    </tr>\n",
       "    <tr>\n",
       "      <th>1</th>\n",
       "      <td>2037061</td>\n",
       "      <td>Acervo Circulante</td>\n",
       "      <td>Biblioteca Central Zila Mamede</td>\n",
       "      <td>REGULAR</td>\n",
       "      <td>616</td>\n",
       "      <td>59</td>\n",
       "      <td>2015/08/03 10:39:42.972000000</td>\n",
       "      <td>2015/10/19 08:52:30.000000000</td>\n",
       "      <td>2015/08/24 21:55:47.110000000</td>\n",
       "      <td>2.013034e+09</td>\n",
       "      <td>ALUNO DE GRADUAÇÃO</td>\n",
       "    </tr>\n",
       "    <tr>\n",
       "      <th>2</th>\n",
       "      <td>1212301</td>\n",
       "      <td>Dissertações</td>\n",
       "      <td>Biblioteca Central Zila Mamede</td>\n",
       "      <td>ESPECIAL</td>\n",
       "      <td>690</td>\n",
       "      <td>90</td>\n",
       "      <td>2012/03/30 14:35:52.264000000</td>\n",
       "      <td>2012/04/02 17:06:11.000000000</td>\n",
       "      <td>NaN</td>\n",
       "      <td>2.011096e+09</td>\n",
       "      <td>ALUNO DE GRADUAÇÃO</td>\n",
       "    </tr>\n",
       "    <tr>\n",
       "      <th>3</th>\n",
       "      <td>775420</td>\n",
       "      <td>Acervo Circulante</td>\n",
       "      <td>Biblioteca Central Zila Mamede</td>\n",
       "      <td>REGULAR</td>\n",
       "      <td>650</td>\n",
       "      <td>153</td>\n",
       "      <td>2010/05/14 17:58:11.558000000</td>\n",
       "      <td>2010/06/17 19:34:11.000000000</td>\n",
       "      <td>2010/05/31 00:35:54.869000000</td>\n",
       "      <td>2.004286e+08</td>\n",
       "      <td>ALUNO DE GRADUAÇÃO</td>\n",
       "    </tr>\n",
       "    <tr>\n",
       "      <th>4</th>\n",
       "      <td>800617</td>\n",
       "      <td>Acervo Circulante</td>\n",
       "      <td>Biblioteca Central Zila Mamede</td>\n",
       "      <td>REGULAR</td>\n",
       "      <td>650</td>\n",
       "      <td>153</td>\n",
       "      <td>2010/07/06 12:24:32.049000000</td>\n",
       "      <td>2010/08/09 17:54:20.000000000</td>\n",
       "      <td>2010/07/21 11:39:18.519000000</td>\n",
       "      <td>2.008032e+09</td>\n",
       "      <td>ALUNO DE GRADUAÇÃO</td>\n",
       "    </tr>\n",
       "    <tr>\n",
       "      <th>...</th>\n",
       "      <td>...</td>\n",
       "      <td>...</td>\n",
       "      <td>...</td>\n",
       "      <td>...</td>\n",
       "      <td>...</td>\n",
       "      <td>...</td>\n",
       "      <td>...</td>\n",
       "      <td>...</td>\n",
       "      <td>...</td>\n",
       "      <td>...</td>\n",
       "      <td>...</td>\n",
       "    </tr>\n",
       "    <tr>\n",
       "      <th>2072553</th>\n",
       "      <td>1692686</td>\n",
       "      <td>Acervo Circulante</td>\n",
       "      <td>Biblioteca Central Zila Mamede</td>\n",
       "      <td>ESPECIAL</td>\n",
       "      <td>978</td>\n",
       "      <td>267850</td>\n",
       "      <td>2014/02/19 08:45:53.369000000</td>\n",
       "      <td>2014/04/10 16:57:17.000000000</td>\n",
       "      <td>2014/03/08 20:51:53.033000000</td>\n",
       "      <td>2.013107e+09</td>\n",
       "      <td>ALUNO DE PÓS-GRADUAÇÃO</td>\n",
       "    </tr>\n",
       "    <tr>\n",
       "      <th>2072554</th>\n",
       "      <td>1749057</td>\n",
       "      <td>Acervo Circulante</td>\n",
       "      <td>Biblioteca Central Zila Mamede</td>\n",
       "      <td>ESPECIAL</td>\n",
       "      <td>978</td>\n",
       "      <td>267850</td>\n",
       "      <td>2014/05/06 17:58:20.611000000</td>\n",
       "      <td>2014/05/21 13:46:22.000000000</td>\n",
       "      <td>NaN</td>\n",
       "      <td>2.012945e+09</td>\n",
       "      <td>ALUNO DE GRADUAÇÃO</td>\n",
       "    </tr>\n",
       "    <tr>\n",
       "      <th>2072555</th>\n",
       "      <td>1777379</td>\n",
       "      <td>Acervo Circulante</td>\n",
       "      <td>Biblioteca Central Zila Mamede</td>\n",
       "      <td>ESPECIAL</td>\n",
       "      <td>978</td>\n",
       "      <td>267850</td>\n",
       "      <td>2014/07/18 10:49:01.626000000</td>\n",
       "      <td>2014/08/14 18:22:30.000000000</td>\n",
       "      <td>NaN</td>\n",
       "      <td>2.014116e+09</td>\n",
       "      <td>ALUNO DE PÓS-GRADUAÇÃO</td>\n",
       "    </tr>\n",
       "    <tr>\n",
       "      <th>2072556</th>\n",
       "      <td>1807999</td>\n",
       "      <td>Acervo Circulante</td>\n",
       "      <td>Biblioteca Central Zila Mamede</td>\n",
       "      <td>ESPECIAL</td>\n",
       "      <td>978</td>\n",
       "      <td>267850</td>\n",
       "      <td>2014/08/19 18:33:03.179000000</td>\n",
       "      <td>2014/09/03 16:02:11.000000000</td>\n",
       "      <td>NaN</td>\n",
       "      <td>2.010053e+09</td>\n",
       "      <td>ALUNO DE GRADUAÇÃO</td>\n",
       "    </tr>\n",
       "    <tr>\n",
       "      <th>2072557</th>\n",
       "      <td>1839233</td>\n",
       "      <td>Acervo Circulante</td>\n",
       "      <td>Biblioteca Central Zila Mamede</td>\n",
       "      <td>ESPECIAL</td>\n",
       "      <td>978</td>\n",
       "      <td>267850</td>\n",
       "      <td>2014/09/23 15:05:59.322000000</td>\n",
       "      <td>2014/10/13 17:15:46.000000000</td>\n",
       "      <td>2014/10/08 11:40:26.797000000</td>\n",
       "      <td>2.010053e+09</td>\n",
       "      <td>ALUNO DE GRADUAÇÃO</td>\n",
       "    </tr>\n",
       "  </tbody>\n",
       "</table>\n",
       "<p>2072433 rows × 11 columns</p>\n",
       "</div>"
      ],
      "text/plain": [
       "         id_emprestimo            colecao                      biblioteca  \\\n",
       "0               818501  Acervo Circulante  Biblioteca Central Zila Mamede   \n",
       "1              2037061  Acervo Circulante  Biblioteca Central Zila Mamede   \n",
       "2              1212301       Dissertações  Biblioteca Central Zila Mamede   \n",
       "3               775420  Acervo Circulante  Biblioteca Central Zila Mamede   \n",
       "4               800617  Acervo Circulante  Biblioteca Central Zila Mamede   \n",
       "...                ...                ...                             ...   \n",
       "2072553        1692686  Acervo Circulante  Biblioteca Central Zila Mamede   \n",
       "2072554        1749057  Acervo Circulante  Biblioteca Central Zila Mamede   \n",
       "2072555        1777379  Acervo Circulante  Biblioteca Central Zila Mamede   \n",
       "2072556        1807999  Acervo Circulante  Biblioteca Central Zila Mamede   \n",
       "2072557        1839233  Acervo Circulante  Biblioteca Central Zila Mamede   \n",
       "\n",
       "        status_material  localizacao  registro_sistema  \\\n",
       "0               REGULAR          691                37   \n",
       "1               REGULAR          616                59   \n",
       "2              ESPECIAL          690                90   \n",
       "3               REGULAR          650               153   \n",
       "4               REGULAR          650               153   \n",
       "...                 ...          ...               ...   \n",
       "2072553        ESPECIAL          978            267850   \n",
       "2072554        ESPECIAL          978            267850   \n",
       "2072555        ESPECIAL          978            267850   \n",
       "2072556        ESPECIAL          978            267850   \n",
       "2072557        ESPECIAL          978            267850   \n",
       "\n",
       "                       data_emprestimo                 data_devolucao  \\\n",
       "0        2010/08/17 17:00:04.440000000  2010/08/17 17:09:15.000000000   \n",
       "1        2015/08/03 10:39:42.972000000  2015/10/19 08:52:30.000000000   \n",
       "2        2012/03/30 14:35:52.264000000  2012/04/02 17:06:11.000000000   \n",
       "3        2010/05/14 17:58:11.558000000  2010/06/17 19:34:11.000000000   \n",
       "4        2010/07/06 12:24:32.049000000  2010/08/09 17:54:20.000000000   \n",
       "...                                ...                            ...   \n",
       "2072553  2014/02/19 08:45:53.369000000  2014/04/10 16:57:17.000000000   \n",
       "2072554  2014/05/06 17:58:20.611000000  2014/05/21 13:46:22.000000000   \n",
       "2072555  2014/07/18 10:49:01.626000000  2014/08/14 18:22:30.000000000   \n",
       "2072556  2014/08/19 18:33:03.179000000  2014/09/03 16:02:11.000000000   \n",
       "2072557  2014/09/23 15:05:59.322000000  2014/10/13 17:15:46.000000000   \n",
       "\n",
       "                        data_renovacao  matricula_ou_siape  \\\n",
       "0                                  NaN        2.010060e+09   \n",
       "1        2015/08/24 21:55:47.110000000        2.013034e+09   \n",
       "2                                  NaN        2.011096e+09   \n",
       "3        2010/05/31 00:35:54.869000000        2.004286e+08   \n",
       "4        2010/07/21 11:39:18.519000000        2.008032e+09   \n",
       "...                                ...                 ...   \n",
       "2072553  2014/03/08 20:51:53.033000000        2.013107e+09   \n",
       "2072554                            NaN        2.012945e+09   \n",
       "2072555                            NaN        2.014116e+09   \n",
       "2072556                            NaN        2.010053e+09   \n",
       "2072557  2014/10/08 11:40:26.797000000        2.010053e+09   \n",
       "\n",
       "           tipo_vinculo_usuario  \n",
       "0            ALUNO DE GRADUAÇÃO  \n",
       "1            ALUNO DE GRADUAÇÃO  \n",
       "2            ALUNO DE GRADUAÇÃO  \n",
       "3            ALUNO DE GRADUAÇÃO  \n",
       "4            ALUNO DE GRADUAÇÃO  \n",
       "...                         ...  \n",
       "2072553  ALUNO DE PÓS-GRADUAÇÃO  \n",
       "2072554      ALUNO DE GRADUAÇÃO  \n",
       "2072555  ALUNO DE PÓS-GRADUAÇÃO  \n",
       "2072556      ALUNO DE GRADUAÇÃO  \n",
       "2072557      ALUNO DE GRADUAÇÃO  \n",
       "\n",
       "[2072433 rows x 11 columns]"
      ]
     },
     "execution_count": 16,
     "metadata": {},
     "output_type": "execute_result"
    }
   ],
   "source": [
    "dados_acervo.drop_duplicates()"
   ]
  },
  {
   "cell_type": "markdown",
   "metadata": {},
   "source": [
    "## 3.2. Atribuindo categorias para a variável \"localização\""
   ]
  },
  {
   "cell_type": "code",
   "execution_count": 17,
   "metadata": {},
   "outputs": [],
   "source": [
    "# 1. Definindo os intervalos:\n",
    "intervalos = {\n",
    "    (0,99): 'Generalidades. Ciência e conhecimento',\n",
    "    (100,199): 'Filosofia e psicologia',\n",
    "    (200,299): 'Religião',\n",
    "    (300,399): 'Ciências sociais',\n",
    "    (400,499): 'Classe vaga. Provisoriamente não ocupada',\n",
    "    (500,599): 'Matemática e ciências naturais',\n",
    "    (600,699): 'Ciências aplicadas',\n",
    "    (700,799): 'Belas artes',\n",
    "    (800,899): 'Linguagem. Língua. Linguística',\n",
    "    (900,999): 'Geografia. Biografia. História',\n",
    "}\n",
    "\n",
    "# 2. Função para mapear os números para categorias\n",
    "def categorizar (localizacao):\n",
    "    for intervalo, categoria in intervalos.items():\n",
    "        if intervalo[0] <= localizacao <= intervalo [1]:\n",
    "            return categoria\n",
    "    return None\n",
    "\n",
    "# 3. Aplicando a função categorizar\n",
    "dados_acervo['localizacao'] = dados_acervo['localizacao'].apply(categorizar)"
   ]
  },
  {
   "cell_type": "code",
   "execution_count": 18,
   "metadata": {},
   "outputs": [
    {
     "data": {
      "text/plain": [
       "localizacao\n",
       "Ciências aplicadas                       1425496\n",
       "Ciências sociais                          369543\n",
       "Matemática e ciências naturais             68745\n",
       "Generalidades. Ciência e conhecimento      62525\n",
       "Religião                                   62295\n",
       "Filosofia e psicologia                     60564\n",
       "Geografia. Biografia. História              7989\n",
       "Belas artes                                 7911\n",
       "Linguagem. Língua. Linguística              7490\n",
       "Name: count, dtype: int64"
      ]
     },
     "execution_count": 18,
     "metadata": {},
     "output_type": "execute_result"
    }
   ],
   "source": [
    "dados_acervo['localizacao'].value_counts()"
   ]
  },
  {
   "cell_type": "code",
   "execution_count": 19,
   "metadata": {},
   "outputs": [
    {
     "data": {
      "text/plain": [
       "<Axes: ylabel='localizacao'>"
      ]
     },
     "execution_count": 19,
     "metadata": {},
     "output_type": "execute_result"
    },
    {
     "data": {
      "image/png": "[encoded data removed]",
      "text/plain": [
       "<Figure size 640x480 with 1 Axes>"
      ]
     },
     "metadata": {},
     "output_type": "display_data"
    }
   ],
   "source": [
    "dados_acervo['localizacao'].value_counts().plot(kind='barh')"
   ]
  },
  {
   "cell_type": "markdown",
   "metadata": {},
   "source": [
    "# 4. Análise exploratória dos dados"
   ]
  },
  {
   "cell_type": "markdown",
   "metadata": {},
   "source": [
    "## 4.1. Shape"
   ]
  },
  {
   "cell_type": "code",
   "execution_count": 20,
   "metadata": {},
   "outputs": [
    {
     "data": {
      "text/plain": [
       "(2072558, 11)"
      ]
     },
     "execution_count": 20,
     "metadata": {},
     "output_type": "execute_result"
    }
   ],
   "source": [
    "# Verificando o tamanho do dataframe\n",
    "dados_acervo.shape"
   ]
  },
  {
   "cell_type": "markdown",
   "metadata": {},
   "source": [
    "## 4.2. Informações gerais sobre os dados"
   ]
  },
  {
   "cell_type": "code",
   "execution_count": 21,
   "metadata": {},
   "outputs": [
    {
     "name": "stdout",
     "output_type": "stream",
     "text": [
      "<class 'pandas.core.frame.DataFrame'>\n",
      "RangeIndex: 2072558 entries, 0 to 2072557\n",
      "Data columns (total 11 columns):\n",
      " #   Column                Dtype  \n",
      "---  ------                -----  \n",
      " 0   id_emprestimo         int64  \n",
      " 1   colecao               object \n",
      " 2   biblioteca            object \n",
      " 3   status_material       object \n",
      " 4   localizacao           object \n",
      " 5   registro_sistema      int64  \n",
      " 6   data_emprestimo       object \n",
      " 7   data_devolucao        object \n",
      " 8   data_renovacao        object \n",
      " 9   matricula_ou_siape    float64\n",
      " 10  tipo_vinculo_usuario  object \n",
      "dtypes: float64(1), int64(2), object(8)\n",
      "memory usage: 173.9+ MB\n"
     ]
    }
   ],
   "source": [
    "dados_acervo.info()"
   ]
  },
  {
   "cell_type": "markdown",
   "metadata": {},
   "source": [
    "## 4.3. Correção dos tipos de dados"
   ]
  },
  {
   "cell_type": "code",
   "execution_count": 22,
   "metadata": {},
   "outputs": [
    {
     "name": "stdout",
     "output_type": "stream",
     "text": [
      "<class 'pandas.core.frame.DataFrame'>\n",
      "RangeIndex: 2072558 entries, 0 to 2072557\n",
      "Data columns (total 11 columns):\n",
      " #   Column                Dtype  \n",
      "---  ------                -----  \n",
      " 0   id_emprestimo         int64  \n",
      " 1   colecao               object \n",
      " 2   biblioteca            object \n",
      " 3   status_material       object \n",
      " 4   localizacao           object \n",
      " 5   registro_sistema      int64  \n",
      " 6   data_emprestimo       object \n",
      " 7   data_devolucao        object \n",
      " 8   data_renovacao        object \n",
      " 9   matricula_ou_siape    float64\n",
      " 10  tipo_vinculo_usuario  object \n",
      "dtypes: float64(1), int64(2), object(8)\n",
      "memory usage: 173.9+ MB\n"
     ]
    }
   ],
   "source": [
    "colunas_data = [\"data_renovacao\",\"data_devolucao\",\"data_emprestimo\"]\n",
    "\n",
    "dados_acervo.info()\n",
    "\n",
    "# Convertendo as colunas para datetime\n",
    "dados_acervo[colunas_data] = dados_acervo[colunas_data].apply(pd.to_datetime, format=\"%Y/%m/%d %H:%M:%S.%f\")\n",
    "\n"
   ]
  },
  {
   "cell_type": "markdown",
   "metadata": {},
   "source": [
    "## 4.4. Convertendo dados para o tipo Categórico"
   ]
  },
  {
   "cell_type": "code",
   "execution_count": 23,
   "metadata": {},
   "outputs": [],
   "source": [
    "dados_categoricos = ['colecao', 'biblioteca','status_material','tipo_vinculo_usuario']\n",
    "\n",
    "dados_acervo[dados_categoricos] = dados_acervo[dados_categoricos].astype('category')"
   ]
  },
  {
   "cell_type": "code",
   "execution_count": 24,
   "metadata": {},
   "outputs": [
    {
     "name": "stdout",
     "output_type": "stream",
     "text": [
      "<class 'pandas.core.frame.DataFrame'>\n",
      "RangeIndex: 2072558 entries, 0 to 2072557\n",
      "Data columns (total 11 columns):\n",
      " #   Column                Dtype         \n",
      "---  ------                -----         \n",
      " 0   id_emprestimo         int64         \n",
      " 1   colecao               category      \n",
      " 2   biblioteca            category      \n",
      " 3   status_material       category      \n",
      " 4   localizacao           object        \n",
      " 5   registro_sistema      int64         \n",
      " 6   data_emprestimo       datetime64[ns]\n",
      " 7   data_devolucao        datetime64[ns]\n",
      " 8   data_renovacao        datetime64[ns]\n",
      " 9   matricula_ou_siape    float64       \n",
      " 10  tipo_vinculo_usuario  category      \n",
      "dtypes: category(4), datetime64[ns](3), float64(1), int64(2), object(1)\n",
      "memory usage: 118.6+ MB\n"
     ]
    }
   ],
   "source": [
    "dados_acervo.info()"
   ]
  },
  {
   "cell_type": "markdown",
   "metadata": {},
   "source": [
    "## 4.5. Convertendo a variável matricula_ou_siape para string"
   ]
  },
  {
   "cell_type": "code",
   "execution_count": 25,
   "metadata": {},
   "outputs": [
    {
     "name": "stdout",
     "output_type": "stream",
     "text": [
      "<class 'pandas.core.frame.DataFrame'>\n",
      "RangeIndex: 2072558 entries, 0 to 2072557\n",
      "Data columns (total 11 columns):\n",
      " #   Column                Dtype         \n",
      "---  ------                -----         \n",
      " 0   id_emprestimo         int64         \n",
      " 1   colecao               category      \n",
      " 2   biblioteca            category      \n",
      " 3   status_material       category      \n",
      " 4   localizacao           object        \n",
      " 5   registro_sistema      int64         \n",
      " 6   data_emprestimo       datetime64[ns]\n",
      " 7   data_devolucao        datetime64[ns]\n",
      " 8   data_renovacao        datetime64[ns]\n",
      " 9   matricula_ou_siape    string        \n",
      " 10  tipo_vinculo_usuario  category      \n",
      "dtypes: category(4), datetime64[ns](3), int64(2), object(1), string(1)\n",
      "memory usage: 118.6+ MB\n"
     ]
    }
   ],
   "source": [
    "dados_acervo['matricula_ou_siape'] = dados_acervo['matricula_ou_siape'].astype('string')\n",
    "dados_acervo.info()"
   ]
  },
  {
   "cell_type": "markdown",
   "metadata": {},
   "source": [
    "## 4.6. Excluindo a coluna registro_sistema"
   ]
  },
  {
   "cell_type": "code",
   "execution_count": 26,
   "metadata": {},
   "outputs": [],
   "source": [
    "dados_acervo.drop(columns=['registro_sistema'], inplace=True)"
   ]
  },
  {
   "cell_type": "code",
   "execution_count": 27,
   "metadata": {},
   "outputs": [
    {
     "name": "stdout",
     "output_type": "stream",
     "text": [
      "<class 'pandas.core.frame.DataFrame'>\n",
      "RangeIndex: 2072558 entries, 0 to 2072557\n",
      "Data columns (total 10 columns):\n",
      " #   Column                Dtype         \n",
      "---  ------                -----         \n",
      " 0   id_emprestimo         int64         \n",
      " 1   colecao               category      \n",
      " 2   biblioteca            category      \n",
      " 3   status_material       category      \n",
      " 4   localizacao           object        \n",
      " 5   data_emprestimo       datetime64[ns]\n",
      " 6   data_devolucao        datetime64[ns]\n",
      " 7   data_renovacao        datetime64[ns]\n",
      " 8   matricula_ou_siape    string        \n",
      " 9   tipo_vinculo_usuario  category      \n",
      "dtypes: category(4), datetime64[ns](3), int64(1), object(1), string(1)\n",
      "memory usage: 102.8+ MB\n"
     ]
    }
   ],
   "source": [
    "dados_acervo.info()"
   ]
  },
  {
   "cell_type": "markdown",
   "metadata": {},
   "source": [
    "## 4.7. Verificando valores nulos"
   ]
  },
  {
   "cell_type": "code",
   "execution_count": 28,
   "metadata": {},
   "outputs": [
    {
     "data": {
      "text/plain": [
       "id_emprestimo                 0\n",
       "colecao                       0\n",
       "biblioteca                    0\n",
       "status_material               0\n",
       "localizacao                   0\n",
       "data_emprestimo               0\n",
       "data_devolucao             6178\n",
       "data_renovacao          1162088\n",
       "matricula_ou_siape         2893\n",
       "tipo_vinculo_usuario          0\n",
       "dtype: int64"
      ]
     },
     "execution_count": 28,
     "metadata": {},
     "output_type": "execute_result"
    }
   ],
   "source": [
    "dados_acervo.isnull().sum()"
   ]
  },
  {
   "cell_type": "markdown",
   "metadata": {},
   "source": [
    "## 4.8. Avaliando as distribuições das variáveis categóricas"
   ]
  },
  {
   "cell_type": "code",
   "execution_count": 29,
   "metadata": {},
   "outputs": [
    {
     "data": {
      "text/plain": [
       "colecao\n",
       "Acervo Circulante                        2053156\n",
       "Multimeios                                  7954\n",
       "Monografias                                 4021\n",
       "Dissertações                                2406\n",
       "Obras de Referência                         1954\n",
       "Publicações de Autores do RN                 866\n",
       "Publicações da UFRN                          764\n",
       "Teses                                        714\n",
       "Folhetos                                     271\n",
       "Necessidades Educacionais Específicas        130\n",
       "Trabalho Acadêmico                           115\n",
       "Eventos                                      101\n",
       "Coleção Mossoroense                           44\n",
       "Coleção Zila Mamede                           30\n",
       "Literatura de Cordel                          24\n",
       "Obras Raras                                    8\n",
       "Name: count, dtype: int64"
      ]
     },
     "execution_count": 29,
     "metadata": {},
     "output_type": "execute_result"
    }
   ],
   "source": [
    "dados_acervo['colecao'].value_counts()"
   ]
  },
  {
   "cell_type": "code",
   "execution_count": 30,
   "metadata": {},
   "outputs": [
    {
     "data": {
      "text/plain": [
       "biblioteca\n",
       "Biblioteca Central Zila Mamede                                                              1426148\n",
       "Biblioteca Setorial do Centro Ciências da Saúde - CCS                                        118616\n",
       "Biblioteca Setorial da Faculdade de Ciências da Saúde do Trairi - FACISA - Santa Cruz         77609\n",
       "Biblioteca Setorial Prof. Alberto Moreira Campos - ­Departamento de Odontologia               66452\n",
       "Biblioteca Setorial Profª. Maria Lúcia da Costa Bezerra - ­CERES­ - Caicó                     61478\n",
       "Biblioteca Setorial Bertha Cruz Enders - ­Escola de Saúde da UFRN - ESUFRN                    46040\n",
       "Biblioteca Setorial do Centro de Ciências Humanas, Letras e Artes - CCHLA                     40746\n",
       "Biblioteca Setorial Dr. Paulo Bezerra - EMCM/RN - Caicó                                       32097\n",
       "Biblioteca Setorial Profª. Maria José Mamede Galvão - FELCS - Currais Novos                   29089\n",
       "Biblioteca Setorial Prof. Rodolfo Helinski - Escola Agrícola de Jundiaí - EAJ  - Macaiba      27220\n",
       "Biblioteca Setorial Prof. Francisco Gurgel De Azevedo - Instituto Química - IQ                26923\n",
       "Biblioteca Setorial do Núcleo de Educação da Infância - NEI                                   23656\n",
       "Biblioteca Setorial Prof. Ronaldo Xavier de Arruda - CCET                                     22749\n",
       "Biblioteca Setorial Pe. Jaime Diniz - Escola de Música - EMUFRN                               21476\n",
       "Biblioteca Setorial do Departamento de Artes - DEART                                          17099\n",
       "Biblioteca Setorial Prof. Leopoldo Nelson - ­Centro de Biociências - CB                       12900\n",
       "Biblioteca Setorial do Centro Ciências Sociais Aplicadas - CCSA                               10533\n",
       "Biblioteca Setorial Prof. Dr. Marcelo Bezerra de Melo Tinôco - DARQ - ­CT                      5057\n",
       "Biblioteca Setorial Prof. Horácio Nicolas Solimo - ­ Engenharia Química - EQ - CT              4098\n",
       "Biblioteca Setorial Moacyr de Góes - CE                                                        1036\n",
       "Biblioteca Setorial Árvore do Conhecimento - Instituto do Cérebro - ICe                         919\n",
       "Biblioteca Setorial do Núcleo de Ensino Superior do Agreste - NESA - Nova Cruz                  617\n",
       "Name: count, dtype: int64"
      ]
     },
     "execution_count": 30,
     "metadata": {},
     "output_type": "execute_result"
    }
   ],
   "source": [
    "dados_acervo['biblioteca'].value_counts()"
   ]
  },
  {
   "cell_type": "code",
   "execution_count": 31,
   "metadata": {},
   "outputs": [
    {
     "data": {
      "text/plain": [
       "<Axes: ylabel='biblioteca'>"
      ]
     },
     "execution_count": 31,
     "metadata": {},
     "output_type": "execute_result"
    },
    {
     "data": {
      "image/png": "[encoded data removed]",
      "text/plain": [
       "<Figure size 640x480 with 1 Axes>"
      ]
     },
     "metadata": {},
     "output_type": "display_data"
    }
   ],
   "source": [
    "dados_acervo['biblioteca'].value_counts().plot(kind='barh')"
   ]
  },
  {
   "cell_type": "code",
   "execution_count": 32,
   "metadata": {},
   "outputs": [
    {
     "data": {
      "text/plain": [
       "status_material\n",
       "REGULAR        2000759\n",
       "ESPECIAL         69763\n",
       "NÃO CIRCULA       2036\n",
       "Name: count, dtype: int64"
      ]
     },
     "execution_count": 32,
     "metadata": {},
     "output_type": "execute_result"
    }
   ],
   "source": [
    "dados_acervo['status_material'].value_counts()"
   ]
  },
  {
   "cell_type": "code",
   "execution_count": 33,
   "metadata": {},
   "outputs": [
    {
     "data": {
      "text/plain": [
       "<Axes: ylabel='status_material'>"
      ]
     },
     "execution_count": 33,
     "metadata": {},
     "output_type": "execute_result"
    },
    {
     "data": {
      "image/png": "[encoded data removed]",
      "text/plain": [
       "<Figure size 640x480 with 1 Axes>"
      ]
     },
     "metadata": {},
     "output_type": "display_data"
    }
   ],
   "source": [
    "dados_acervo['status_material'].value_counts().plot(kind='barh')"
   ]
  },
  {
   "cell_type": "markdown",
   "metadata": {},
   "source": [
    "## 4.9. Avaliando a frequencia de emprestimos ao longo do tempo"
   ]
  },
  {
   "cell_type": "code",
   "execution_count": 34,
   "metadata": {},
   "outputs": [
    {
     "data": {
      "text/html": [
       "<div>\n",
       "<style scoped>\n",
       "    .dataframe tbody tr th:only-of-type {\n",
       "        vertical-align: middle;\n",
       "    }\n",
       "\n",
       "    .dataframe tbody tr th {\n",
       "        vertical-align: top;\n",
       "    }\n",
       "\n",
       "    .dataframe thead th {\n",
       "        text-align: right;\n",
       "    }\n",
       "</style>\n",
       "<table border=\"1\" class=\"dataframe\">\n",
       "  <thead>\n",
       "    <tr style=\"text-align: right;\">\n",
       "      <th></th>\n",
       "      <th>ano_emprestimo</th>\n",
       "      <th>mes_emprestimo</th>\n",
       "      <th>quantidade</th>\n",
       "    </tr>\n",
       "  </thead>\n",
       "  <tbody>\n",
       "    <tr>\n",
       "      <th>0</th>\n",
       "      <td>2010</td>\n",
       "      <td>1</td>\n",
       "      <td>4721</td>\n",
       "    </tr>\n",
       "    <tr>\n",
       "      <th>1</th>\n",
       "      <td>2010</td>\n",
       "      <td>2</td>\n",
       "      <td>10266</td>\n",
       "    </tr>\n",
       "    <tr>\n",
       "      <th>2</th>\n",
       "      <td>2010</td>\n",
       "      <td>3</td>\n",
       "      <td>19631</td>\n",
       "    </tr>\n",
       "    <tr>\n",
       "      <th>3</th>\n",
       "      <td>2010</td>\n",
       "      <td>4</td>\n",
       "      <td>16352</td>\n",
       "    </tr>\n",
       "    <tr>\n",
       "      <th>4</th>\n",
       "      <td>2010</td>\n",
       "      <td>5</td>\n",
       "      <td>15889</td>\n",
       "    </tr>\n",
       "    <tr>\n",
       "      <th>...</th>\n",
       "      <td>...</td>\n",
       "      <td>...</td>\n",
       "      <td>...</td>\n",
       "    </tr>\n",
       "    <tr>\n",
       "      <th>120</th>\n",
       "      <td>2020</td>\n",
       "      <td>1</td>\n",
       "      <td>3585</td>\n",
       "    </tr>\n",
       "    <tr>\n",
       "      <th>121</th>\n",
       "      <td>2020</td>\n",
       "      <td>2</td>\n",
       "      <td>10667</td>\n",
       "    </tr>\n",
       "    <tr>\n",
       "      <th>122</th>\n",
       "      <td>2020</td>\n",
       "      <td>3</td>\n",
       "      <td>11348</td>\n",
       "    </tr>\n",
       "    <tr>\n",
       "      <th>123</th>\n",
       "      <td>2020</td>\n",
       "      <td>5</td>\n",
       "      <td>8</td>\n",
       "    </tr>\n",
       "    <tr>\n",
       "      <th>124</th>\n",
       "      <td>2020</td>\n",
       "      <td>6</td>\n",
       "      <td>2</td>\n",
       "    </tr>\n",
       "  </tbody>\n",
       "</table>\n",
       "<p>125 rows × 3 columns</p>\n",
       "</div>"
      ],
      "text/plain": [
       "     ano_emprestimo  mes_emprestimo  quantidade\n",
       "0              2010               1        4721\n",
       "1              2010               2       10266\n",
       "2              2010               3       19631\n",
       "3              2010               4       16352\n",
       "4              2010               5       15889\n",
       "..              ...             ...         ...\n",
       "120            2020               1        3585\n",
       "121            2020               2       10667\n",
       "122            2020               3       11348\n",
       "123            2020               5           8\n",
       "124            2020               6           2\n",
       "\n",
       "[125 rows x 3 columns]"
      ]
     },
     "execution_count": 34,
     "metadata": {},
     "output_type": "execute_result"
    }
   ],
   "source": [
    "dados_acervo['ano_emprestimo']=dados_acervo['data_emprestimo'].dt.year\n",
    "dados_acervo['mes_emprestimo']=dados_acervo['data_emprestimo'].dt.month\n",
    "\n",
    "total_emprestimos = dados_acervo.groupby(['ano_emprestimo', 'mes_emprestimo']).size().reset_index(name='quantidade')\n",
    "total_emprestimos\n"
   ]
  },
  {
   "cell_type": "code",
   "execution_count": 35,
   "metadata": {},
   "outputs": [
    {
     "data": {
      "text/plain": [
       "array(['Ciências aplicadas', 'Ciências sociais', 'Religião',\n",
       "       'Generalidades. Ciência e conhecimento', 'Filosofia e psicologia',\n",
       "       'Matemática e ciências naturais', 'Geografia. Biografia. História',\n",
       "       'Linguagem. Língua. Linguística', 'Belas artes'], dtype=object)"
      ]
     },
     "execution_count": 35,
     "metadata": {},
     "output_type": "execute_result"
    }
   ],
   "source": [
    "dados_acervo['localizacao'].unique()"
   ]
  },
  {
   "cell_type": "code",
   "execution_count": 36,
   "metadata": {},
   "outputs": [],
   "source": [
    "emprestimos_por_ano_categoria = dados_acervo.groupby(['ano_emprestimo', 'localizacao']).size(). unstack(fill_value = 0)\n"
   ]
  },
  {
   "cell_type": "code",
   "execution_count": 37,
   "metadata": {},
   "outputs": [
    {
     "data": {
      "text/html": [
       "<div>\n",
       "<style scoped>\n",
       "    .dataframe tbody tr th:only-of-type {\n",
       "        vertical-align: middle;\n",
       "    }\n",
       "\n",
       "    .dataframe tbody tr th {\n",
       "        vertical-align: top;\n",
       "    }\n",
       "\n",
       "    .dataframe thead th {\n",
       "        text-align: right;\n",
       "    }\n",
       "</style>\n",
       "<table border=\"1\" class=\"dataframe\">\n",
       "  <thead>\n",
       "    <tr style=\"text-align: right;\">\n",
       "      <th>localizacao</th>\n",
       "      <th>Belas artes</th>\n",
       "      <th>Ciências aplicadas</th>\n",
       "      <th>Ciências sociais</th>\n",
       "      <th>Filosofia e psicologia</th>\n",
       "      <th>Generalidades. Ciência e conhecimento</th>\n",
       "      <th>Geografia. Biografia. História</th>\n",
       "      <th>Linguagem. Língua. Linguística</th>\n",
       "      <th>Matemática e ciências naturais</th>\n",
       "      <th>Religião</th>\n",
       "    </tr>\n",
       "    <tr>\n",
       "      <th>ano_emprestimo</th>\n",
       "      <th></th>\n",
       "      <th></th>\n",
       "      <th></th>\n",
       "      <th></th>\n",
       "      <th></th>\n",
       "      <th></th>\n",
       "      <th></th>\n",
       "      <th></th>\n",
       "      <th></th>\n",
       "    </tr>\n",
       "  </thead>\n",
       "  <tbody>\n",
       "    <tr>\n",
       "      <th>2010</th>\n",
       "      <td>38</td>\n",
       "      <td>160596</td>\n",
       "      <td>506</td>\n",
       "      <td>38</td>\n",
       "      <td>43</td>\n",
       "      <td>61</td>\n",
       "      <td>60</td>\n",
       "      <td>43</td>\n",
       "      <td>27</td>\n",
       "    </tr>\n",
       "    <tr>\n",
       "      <th>2011</th>\n",
       "      <td>52</td>\n",
       "      <td>195225</td>\n",
       "      <td>773</td>\n",
       "      <td>50</td>\n",
       "      <td>52</td>\n",
       "      <td>63</td>\n",
       "      <td>56</td>\n",
       "      <td>79</td>\n",
       "      <td>40</td>\n",
       "    </tr>\n",
       "    <tr>\n",
       "      <th>2012</th>\n",
       "      <td>55</td>\n",
       "      <td>200174</td>\n",
       "      <td>20711</td>\n",
       "      <td>100</td>\n",
       "      <td>89</td>\n",
       "      <td>56</td>\n",
       "      <td>54</td>\n",
       "      <td>65</td>\n",
       "      <td>61</td>\n",
       "    </tr>\n",
       "    <tr>\n",
       "      <th>2013</th>\n",
       "      <td>142</td>\n",
       "      <td>187254</td>\n",
       "      <td>46870</td>\n",
       "      <td>115</td>\n",
       "      <td>96</td>\n",
       "      <td>53</td>\n",
       "      <td>53</td>\n",
       "      <td>66</td>\n",
       "      <td>100</td>\n",
       "    </tr>\n",
       "    <tr>\n",
       "      <th>2014</th>\n",
       "      <td>83</td>\n",
       "      <td>151664</td>\n",
       "      <td>54110</td>\n",
       "      <td>4397</td>\n",
       "      <td>4386</td>\n",
       "      <td>33</td>\n",
       "      <td>33</td>\n",
       "      <td>90</td>\n",
       "      <td>4393</td>\n",
       "    </tr>\n",
       "    <tr>\n",
       "      <th>2015</th>\n",
       "      <td>66</td>\n",
       "      <td>125610</td>\n",
       "      <td>53477</td>\n",
       "      <td>11228</td>\n",
       "      <td>11491</td>\n",
       "      <td>30</td>\n",
       "      <td>61</td>\n",
       "      <td>194</td>\n",
       "      <td>11425</td>\n",
       "    </tr>\n",
       "    <tr>\n",
       "      <th>2016</th>\n",
       "      <td>48</td>\n",
       "      <td>113105</td>\n",
       "      <td>52454</td>\n",
       "      <td>12369</td>\n",
       "      <td>12849</td>\n",
       "      <td>21</td>\n",
       "      <td>62</td>\n",
       "      <td>12283</td>\n",
       "      <td>12727</td>\n",
       "    </tr>\n",
       "    <tr>\n",
       "      <th>2017</th>\n",
       "      <td>77</td>\n",
       "      <td>110286</td>\n",
       "      <td>52775</td>\n",
       "      <td>12263</td>\n",
       "      <td>12591</td>\n",
       "      <td>55</td>\n",
       "      <td>91</td>\n",
       "      <td>17658</td>\n",
       "      <td>12666</td>\n",
       "    </tr>\n",
       "    <tr>\n",
       "      <th>2018</th>\n",
       "      <td>2486</td>\n",
       "      <td>91698</td>\n",
       "      <td>44569</td>\n",
       "      <td>10123</td>\n",
       "      <td>10547</td>\n",
       "      <td>2550</td>\n",
       "      <td>2430</td>\n",
       "      <td>19020</td>\n",
       "      <td>10657</td>\n",
       "    </tr>\n",
       "    <tr>\n",
       "      <th>2019</th>\n",
       "      <td>4173</td>\n",
       "      <td>78370</td>\n",
       "      <td>37790</td>\n",
       "      <td>8615</td>\n",
       "      <td>9044</td>\n",
       "      <td>4345</td>\n",
       "      <td>3930</td>\n",
       "      <td>16675</td>\n",
       "      <td>8859</td>\n",
       "    </tr>\n",
       "    <tr>\n",
       "      <th>2020</th>\n",
       "      <td>691</td>\n",
       "      <td>11514</td>\n",
       "      <td>5508</td>\n",
       "      <td>1266</td>\n",
       "      <td>1337</td>\n",
       "      <td>722</td>\n",
       "      <td>660</td>\n",
       "      <td>2572</td>\n",
       "      <td>1340</td>\n",
       "    </tr>\n",
       "  </tbody>\n",
       "</table>\n",
       "</div>"
      ],
      "text/plain": [
       "localizacao     Belas artes  Ciências aplicadas  Ciências sociais  \\\n",
       "ano_emprestimo                                                      \n",
       "2010                     38              160596               506   \n",
       "2011                     52              195225               773   \n",
       "2012                     55              200174             20711   \n",
       "2013                    142              187254             46870   \n",
       "2014                     83              151664             54110   \n",
       "2015                     66              125610             53477   \n",
       "2016                     48              113105             52454   \n",
       "2017                     77              110286             52775   \n",
       "2018                   2486               91698             44569   \n",
       "2019                   4173               78370             37790   \n",
       "2020                    691               11514              5508   \n",
       "\n",
       "localizacao     Filosofia e psicologia  Generalidades. Ciência e conhecimento  \\\n",
       "ano_emprestimo                                                                  \n",
       "2010                                38                                     43   \n",
       "2011                                50                                     52   \n",
       "2012                               100                                     89   \n",
       "2013                               115                                     96   \n",
       "2014                              4397                                   4386   \n",
       "2015                             11228                                  11491   \n",
       "2016                             12369                                  12849   \n",
       "2017                             12263                                  12591   \n",
       "2018                             10123                                  10547   \n",
       "2019                              8615                                   9044   \n",
       "2020                              1266                                   1337   \n",
       "\n",
       "localizacao     Geografia. Biografia. História  \\\n",
       "ano_emprestimo                                   \n",
       "2010                                        61   \n",
       "2011                                        63   \n",
       "2012                                        56   \n",
       "2013                                        53   \n",
       "2014                                        33   \n",
       "2015                                        30   \n",
       "2016                                        21   \n",
       "2017                                        55   \n",
       "2018                                      2550   \n",
       "2019                                      4345   \n",
       "2020                                       722   \n",
       "\n",
       "localizacao     Linguagem. Língua. Linguística  \\\n",
       "ano_emprestimo                                   \n",
       "2010                                        60   \n",
       "2011                                        56   \n",
       "2012                                        54   \n",
       "2013                                        53   \n",
       "2014                                        33   \n",
       "2015                                        61   \n",
       "2016                                        62   \n",
       "2017                                        91   \n",
       "2018                                      2430   \n",
       "2019                                      3930   \n",
       "2020                                       660   \n",
       "\n",
       "localizacao     Matemática e ciências naturais  Religião  \n",
       "ano_emprestimo                                            \n",
       "2010                                        43        27  \n",
       "2011                                        79        40  \n",
       "2012                                        65        61  \n",
       "2013                                        66       100  \n",
       "2014                                        90      4393  \n",
       "2015                                       194     11425  \n",
       "2016                                     12283     12727  \n",
       "2017                                     17658     12666  \n",
       "2018                                     19020     10657  \n",
       "2019                                     16675      8859  \n",
       "2020                                      2572      1340  "
      ]
     },
     "execution_count": 37,
     "metadata": {},
     "output_type": "execute_result"
    }
   ],
   "source": [
    "emprestimos_por_ano_categoria"
   ]
  },
  {
   "cell_type": "code",
   "execution_count": 38,
   "metadata": {},
   "outputs": [
    {
     "data": {
      "image/png": "[encoded data removed]",
      "text/plain": [
       "<Figure size 1000x800 with 1 Axes>"
      ]
     },
     "metadata": {},
     "output_type": "display_data"
    }
   ],
   "source": [
    "plt.figure(figsize=(10, 8))\n",
    "for localizacao in emprestimos_por_ano_categoria.columns:\n",
    "    plt.plot(emprestimos_por_ano_categoria.index, emprestimos_por_ano_categoria[localizacao], marker='^', label = localizacao)\n",
    "plt.xlabel('Ano de Empréstimo')\n",
    "plt.ylabel('Total de Empréstimos')\n",
    "plt.title('Total de Empréstimos por Ano')\n",
    "plt.legend(title = 'Localização')\n",
    "plt.show()"
   ]
  },
  {
   "cell_type": "markdown",
   "metadata": {},
   "source": [
    "## 4.10 relação entre emprestimos e exemplares"
   ]
  },
  {
   "cell_type": "code",
   "execution_count": 39,
   "metadata": {},
   "outputs": [
    {
     "data": {
      "text/plain": [
       "id_emprestimo\n",
       "709704      7\n",
       "709705      7\n",
       "10240112    3\n",
       "1775991     3\n",
       "709698      3\n",
       "           ..\n",
       "931287      1\n",
       "879276      1\n",
       "731741      1\n",
       "2752151     1\n",
       "1839233     1\n",
       "Name: count, Length: 2068724, dtype: int64"
      ]
     },
     "execution_count": 39,
     "metadata": {},
     "output_type": "execute_result"
    }
   ],
   "source": [
    "emprestimos_totais = dados_acervo['id_emprestimo'].value_counts()\n",
    "emprestimos_totais"
   ]
  },
  {
   "cell_type": "code",
   "execution_count": 40,
   "metadata": {},
   "outputs": [
    {
     "data": {
      "text/html": [
       "<div>\n",
       "<style scoped>\n",
       "    .dataframe tbody tr th:only-of-type {\n",
       "        vertical-align: middle;\n",
       "    }\n",
       "\n",
       "    .dataframe tbody tr th {\n",
       "        vertical-align: top;\n",
       "    }\n",
       "\n",
       "    .dataframe thead th {\n",
       "        text-align: right;\n",
       "    }\n",
       "</style>\n",
       "<table border=\"1\" class=\"dataframe\">\n",
       "  <thead>\n",
       "    <tr style=\"text-align: right;\">\n",
       "      <th></th>\n",
       "      <th>id_emprestimo</th>\n",
       "      <th>colecao</th>\n",
       "      <th>biblioteca</th>\n",
       "      <th>status_material</th>\n",
       "      <th>localizacao</th>\n",
       "      <th>data_emprestimo</th>\n",
       "      <th>data_devolucao</th>\n",
       "      <th>data_renovacao</th>\n",
       "      <th>matricula_ou_siape</th>\n",
       "      <th>tipo_vinculo_usuario</th>\n",
       "      <th>ano_emprestimo</th>\n",
       "      <th>mes_emprestimo</th>\n",
       "    </tr>\n",
       "  </thead>\n",
       "  <tbody>\n",
       "    <tr>\n",
       "      <th>857837</th>\n",
       "      <td>709705</td>\n",
       "      <td>Acervo Circulante</td>\n",
       "      <td>Biblioteca Central Zila Mamede</td>\n",
       "      <td>REGULAR</td>\n",
       "      <td>Ciências aplicadas</td>\n",
       "      <td>2010-01-04 09:58:46.549</td>\n",
       "      <td>2010-01-20 13:14:34.464</td>\n",
       "      <td>2010-01-17 18:56:43.909</td>\n",
       "      <td>2008009890.0</td>\n",
       "      <td>ALUNO DE GRADUAÇÃO</td>\n",
       "      <td>2010</td>\n",
       "      <td>1</td>\n",
       "    </tr>\n",
       "    <tr>\n",
       "      <th>857838</th>\n",
       "      <td>709705</td>\n",
       "      <td>Acervo Circulante</td>\n",
       "      <td>Biblioteca Central Zila Mamede</td>\n",
       "      <td>REGULAR</td>\n",
       "      <td>Ciências aplicadas</td>\n",
       "      <td>2010-01-04 09:58:46.549</td>\n",
       "      <td>2010-01-20 13:14:34.464</td>\n",
       "      <td>2010-01-17 18:56:43.909</td>\n",
       "      <td>2008009890.0</td>\n",
       "      <td>ALUNO DE GRADUAÇÃO</td>\n",
       "      <td>2010</td>\n",
       "      <td>1</td>\n",
       "    </tr>\n",
       "    <tr>\n",
       "      <th>857839</th>\n",
       "      <td>709705</td>\n",
       "      <td>Acervo Circulante</td>\n",
       "      <td>Biblioteca Central Zila Mamede</td>\n",
       "      <td>REGULAR</td>\n",
       "      <td>Ciências aplicadas</td>\n",
       "      <td>2010-01-04 09:58:46.549</td>\n",
       "      <td>2010-01-20 13:14:34.464</td>\n",
       "      <td>2010-01-17 18:56:43.909</td>\n",
       "      <td>2008009890.0</td>\n",
       "      <td>ALUNO DE GRADUAÇÃO</td>\n",
       "      <td>2010</td>\n",
       "      <td>1</td>\n",
       "    </tr>\n",
       "    <tr>\n",
       "      <th>857840</th>\n",
       "      <td>709705</td>\n",
       "      <td>Acervo Circulante</td>\n",
       "      <td>Biblioteca Central Zila Mamede</td>\n",
       "      <td>REGULAR</td>\n",
       "      <td>Ciências aplicadas</td>\n",
       "      <td>2010-01-04 09:58:46.549</td>\n",
       "      <td>2010-01-20 13:14:34.464</td>\n",
       "      <td>2010-01-17 18:56:43.909</td>\n",
       "      <td>2008009890.0</td>\n",
       "      <td>ALUNO DE GRADUAÇÃO</td>\n",
       "      <td>2010</td>\n",
       "      <td>1</td>\n",
       "    </tr>\n",
       "    <tr>\n",
       "      <th>857841</th>\n",
       "      <td>709705</td>\n",
       "      <td>Acervo Circulante</td>\n",
       "      <td>Biblioteca Central Zila Mamede</td>\n",
       "      <td>REGULAR</td>\n",
       "      <td>Ciências aplicadas</td>\n",
       "      <td>2010-01-04 09:58:46.549</td>\n",
       "      <td>2010-01-20 13:14:34.464</td>\n",
       "      <td>2010-01-17 18:56:43.909</td>\n",
       "      <td>2008009890.0</td>\n",
       "      <td>ALUNO DE GRADUAÇÃO</td>\n",
       "      <td>2010</td>\n",
       "      <td>1</td>\n",
       "    </tr>\n",
       "    <tr>\n",
       "      <th>857842</th>\n",
       "      <td>709705</td>\n",
       "      <td>Acervo Circulante</td>\n",
       "      <td>Biblioteca Central Zila Mamede</td>\n",
       "      <td>REGULAR</td>\n",
       "      <td>Ciências aplicadas</td>\n",
       "      <td>2010-01-04 09:58:46.549</td>\n",
       "      <td>2010-01-20 13:14:34.464</td>\n",
       "      <td>2010-01-17 18:56:43.909</td>\n",
       "      <td>2008009890.0</td>\n",
       "      <td>ALUNO DE GRADUAÇÃO</td>\n",
       "      <td>2010</td>\n",
       "      <td>1</td>\n",
       "    </tr>\n",
       "    <tr>\n",
       "      <th>857843</th>\n",
       "      <td>709705</td>\n",
       "      <td>Acervo Circulante</td>\n",
       "      <td>Biblioteca Central Zila Mamede</td>\n",
       "      <td>REGULAR</td>\n",
       "      <td>Ciências aplicadas</td>\n",
       "      <td>2010-01-04 09:58:46.549</td>\n",
       "      <td>2010-01-20 13:14:34.464</td>\n",
       "      <td>2010-01-17 18:56:43.909</td>\n",
       "      <td>2008009890.0</td>\n",
       "      <td>ALUNO DE GRADUAÇÃO</td>\n",
       "      <td>2010</td>\n",
       "      <td>1</td>\n",
       "    </tr>\n",
       "  </tbody>\n",
       "</table>\n",
       "</div>"
      ],
      "text/plain": [
       "        id_emprestimo            colecao                      biblioteca  \\\n",
       "857837         709705  Acervo Circulante  Biblioteca Central Zila Mamede   \n",
       "857838         709705  Acervo Circulante  Biblioteca Central Zila Mamede   \n",
       "857839         709705  Acervo Circulante  Biblioteca Central Zila Mamede   \n",
       "857840         709705  Acervo Circulante  Biblioteca Central Zila Mamede   \n",
       "857841         709705  Acervo Circulante  Biblioteca Central Zila Mamede   \n",
       "857842         709705  Acervo Circulante  Biblioteca Central Zila Mamede   \n",
       "857843         709705  Acervo Circulante  Biblioteca Central Zila Mamede   \n",
       "\n",
       "       status_material         localizacao         data_emprestimo  \\\n",
       "857837         REGULAR  Ciências aplicadas 2010-01-04 09:58:46.549   \n",
       "857838         REGULAR  Ciências aplicadas 2010-01-04 09:58:46.549   \n",
       "857839         REGULAR  Ciências aplicadas 2010-01-04 09:58:46.549   \n",
       "857840         REGULAR  Ciências aplicadas 2010-01-04 09:58:46.549   \n",
       "857841         REGULAR  Ciências aplicadas 2010-01-04 09:58:46.549   \n",
       "857842         REGULAR  Ciências aplicadas 2010-01-04 09:58:46.549   \n",
       "857843         REGULAR  Ciências aplicadas 2010-01-04 09:58:46.549   \n",
       "\n",
       "                data_devolucao          data_renovacao matricula_ou_siape  \\\n",
       "857837 2010-01-20 13:14:34.464 2010-01-17 18:56:43.909       2008009890.0   \n",
       "857838 2010-01-20 13:14:34.464 2010-01-17 18:56:43.909       2008009890.0   \n",
       "857839 2010-01-20 13:14:34.464 2010-01-17 18:56:43.909       2008009890.0   \n",
       "857840 2010-01-20 13:14:34.464 2010-01-17 18:56:43.909       2008009890.0   \n",
       "857841 2010-01-20 13:14:34.464 2010-01-17 18:56:43.909       2008009890.0   \n",
       "857842 2010-01-20 13:14:34.464 2010-01-17 18:56:43.909       2008009890.0   \n",
       "857843 2010-01-20 13:14:34.464 2010-01-17 18:56:43.909       2008009890.0   \n",
       "\n",
       "       tipo_vinculo_usuario  ano_emprestimo  mes_emprestimo  \n",
       "857837   ALUNO DE GRADUAÇÃO            2010               1  \n",
       "857838   ALUNO DE GRADUAÇÃO            2010               1  \n",
       "857839   ALUNO DE GRADUAÇÃO            2010               1  \n",
       "857840   ALUNO DE GRADUAÇÃO            2010               1  \n",
       "857841   ALUNO DE GRADUAÇÃO            2010               1  \n",
       "857842   ALUNO DE GRADUAÇÃO            2010               1  \n",
       "857843   ALUNO DE GRADUAÇÃO            2010               1  "
      ]
     },
     "execution_count": 40,
     "metadata": {},
     "output_type": "execute_result"
    }
   ],
   "source": [
    "dados_acervo.loc[dados_acervo['id_emprestimo'] == 709705]"
   ]
  },
  {
   "cell_type": "markdown",
   "metadata": {},
   "source": [
    "### Quantos emprestimos foram realizados?"
   ]
  },
  {
   "cell_type": "code",
   "execution_count": 41,
   "metadata": {},
   "outputs": [
    {
     "data": {
      "text/plain": [
       "2068724"
      ]
     },
     "execution_count": 41,
     "metadata": {},
     "output_type": "execute_result"
    }
   ],
   "source": [
    "emprestimos_realizados =len(dados_acervo['id_emprestimo'].drop_duplicates())\n",
    "emprestimos_realizados"
   ]
  },
  {
   "cell_type": "markdown",
   "metadata": {},
   "source": [
    "### Quantos exemplares foram emprestados?"
   ]
  },
  {
   "cell_type": "code",
   "execution_count": 42,
   "metadata": {},
   "outputs": [
    {
     "data": {
      "text/plain": [
       "546237"
      ]
     },
     "execution_count": 42,
     "metadata": {},
     "output_type": "execute_result"
    }
   ],
   "source": [
    "exemplares_emprestados = len(dados_exemplares)\n",
    "exemplares_emprestados"
   ]
  },
  {
   "cell_type": "markdown",
   "metadata": {},
   "source": [
    "### Quantidade de exemplares emprestados"
   ]
  },
  {
   "cell_type": "code",
   "execution_count": 43,
   "metadata": {},
   "outputs": [
    {
     "name": "stderr",
     "output_type": "stream",
     "text": [
      "C:\\Users\\Eduardo Socca\\AppData\\Local\\Temp\\ipykernel_34036\\4128554890.py:3: UserWarning: Pandas doesn't allow columns to be created via a new attribute name - see https://pandas.pydata.org/pandas-docs/stable/indexing.html#attribute-access\n",
      "  emprestimos.data = pd.to_datetime(emprestimos['ano'])\n"
     ]
    },
    {
     "data": {
      "text/html": [
       "<div>\n",
       "<style scoped>\n",
       "    .dataframe tbody tr th:only-of-type {\n",
       "        vertical-align: middle;\n",
       "    }\n",
       "\n",
       "    .dataframe tbody tr th {\n",
       "        vertical-align: top;\n",
       "    }\n",
       "\n",
       "    .dataframe thead th {\n",
       "        text-align: right;\n",
       "    }\n",
       "</style>\n",
       "<table border=\"1\" class=\"dataframe\">\n",
       "  <thead>\n",
       "    <tr style=\"text-align: right;\">\n",
       "      <th></th>\n",
       "      <th>ano</th>\n",
       "      <th>quantidade</th>\n",
       "    </tr>\n",
       "  </thead>\n",
       "  <tbody>\n",
       "    <tr>\n",
       "      <th>0</th>\n",
       "      <td>2013</td>\n",
       "      <td>234749</td>\n",
       "    </tr>\n",
       "    <tr>\n",
       "      <th>1</th>\n",
       "      <td>2012</td>\n",
       "      <td>221365</td>\n",
       "    </tr>\n",
       "    <tr>\n",
       "      <th>2</th>\n",
       "      <td>2014</td>\n",
       "      <td>219189</td>\n",
       "    </tr>\n",
       "    <tr>\n",
       "      <th>3</th>\n",
       "      <td>2017</td>\n",
       "      <td>218462</td>\n",
       "    </tr>\n",
       "    <tr>\n",
       "      <th>4</th>\n",
       "      <td>2016</td>\n",
       "      <td>215918</td>\n",
       "    </tr>\n",
       "    <tr>\n",
       "      <th>5</th>\n",
       "      <td>2015</td>\n",
       "      <td>213582</td>\n",
       "    </tr>\n",
       "    <tr>\n",
       "      <th>6</th>\n",
       "      <td>2011</td>\n",
       "      <td>196390</td>\n",
       "    </tr>\n",
       "    <tr>\n",
       "      <th>7</th>\n",
       "      <td>2018</td>\n",
       "      <td>194080</td>\n",
       "    </tr>\n",
       "    <tr>\n",
       "      <th>8</th>\n",
       "      <td>2019</td>\n",
       "      <td>171801</td>\n",
       "    </tr>\n",
       "    <tr>\n",
       "      <th>9</th>\n",
       "      <td>2010</td>\n",
       "      <td>161412</td>\n",
       "    </tr>\n",
       "    <tr>\n",
       "      <th>10</th>\n",
       "      <td>2020</td>\n",
       "      <td>25610</td>\n",
       "    </tr>\n",
       "  </tbody>\n",
       "</table>\n",
       "</div>"
      ],
      "text/plain": [
       "     ano  quantidade\n",
       "0   2013      234749\n",
       "1   2012      221365\n",
       "2   2014      219189\n",
       "3   2017      218462\n",
       "4   2016      215918\n",
       "5   2015      213582\n",
       "6   2011      196390\n",
       "7   2018      194080\n",
       "8   2019      171801\n",
       "9   2010      161412\n",
       "10  2020       25610"
      ]
     },
     "execution_count": 43,
     "metadata": {},
     "output_type": "execute_result"
    }
   ],
   "source": [
    "emprestimos = pd.DataFrame(dados_acervo['ano_emprestimo'].value_counts()).reset_index()\n",
    "emprestimos.columns = ['ano', 'quantidade']\n",
    "emprestimos.data = pd.to_datetime(emprestimos['ano'])\n",
    "emprestimos"
   ]
  },
  {
   "cell_type": "markdown",
   "metadata": {},
   "source": [
    "### Configurando o gráfico"
   ]
  },
  {
   "cell_type": "code",
   "execution_count": 44,
   "metadata": {},
   "outputs": [],
   "source": [
    "sns.set_theme(context = 'notebook',\n",
    "              style = 'darkgrid',\n",
    "              palette = 'deep',\n",
    "              font_scale = 1.3,\n",
    "              rc = {\"figure.figsize\":(13,8)})"
   ]
  },
  {
   "cell_type": "code",
   "execution_count": 45,
   "metadata": {},
   "outputs": [
    {
     "ename": "ValueError",
     "evalue": "Could not interpret value `count` for `y`. An entry with this name does not appear in `data`.",
     "output_type": "error",
     "traceback": [
      "\u001b[1;31m---------------------------------------------------------------------------\u001b[0m",
      "\u001b[1;31mValueError\u001b[0m                                Traceback (most recent call last)",
      "Cell \u001b[1;32mIn[45], line 1\u001b[0m\n\u001b[1;32m----> 1\u001b[0m ax \u001b[38;5;241m=\u001b[39m \u001b[43msns\u001b[49m\u001b[38;5;241;43m.\u001b[39;49m\u001b[43mlineplot\u001b[49m\u001b[43m(\u001b[49m\u001b[43mdata\u001b[49m\u001b[43m \u001b[49m\u001b[38;5;241;43m=\u001b[39;49m\u001b[43m \u001b[49m\u001b[43mtotal_emprestimos\u001b[49m\u001b[43m,\u001b[49m\u001b[43m \u001b[49m\u001b[43mx\u001b[49m\u001b[43m \u001b[49m\u001b[38;5;241;43m=\u001b[39;49m\u001b[43m \u001b[49m\u001b[38;5;124;43m'\u001b[39;49m\u001b[38;5;124;43mano_emprestimo\u001b[39;49m\u001b[38;5;124;43m'\u001b[39;49m\u001b[43m,\u001b[49m\u001b[43m \u001b[49m\u001b[43my\u001b[49m\u001b[43m \u001b[49m\u001b[38;5;241;43m=\u001b[39;49m\u001b[43m \u001b[49m\u001b[38;5;124;43m'\u001b[39;49m\u001b[38;5;124;43mcount\u001b[39;49m\u001b[38;5;124;43m'\u001b[39;49m\u001b[43m)\u001b[49m\n\u001b[0;32m      2\u001b[0m ax\u001b[38;5;241m.\u001b[39mset(xlabel \u001b[38;5;241m=\u001b[39m \u001b[38;5;124m'\u001b[39m\u001b[38;5;124mQuantidade\u001b[39m\u001b[38;5;124m'\u001b[39m, ylabel \u001b[38;5;241m=\u001b[39m \u001b[38;5;124m'\u001b[39m\u001b[38;5;124mAno\u001b[39m\u001b[38;5;124m'\u001b[39m)\n\u001b[0;32m      3\u001b[0m ax\u001b[38;5;241m.\u001b[39mtick_params(axis \u001b[38;5;241m=\u001b[39m \u001b[38;5;124m'\u001b[39m\u001b[38;5;124mx\u001b[39m\u001b[38;5;124m'\u001b[39m, rotation \u001b[38;5;241m=\u001b[39m \u001b[38;5;241m30\u001b[39m)\n",
      "File \u001b[1;32mc:\\Users\\Eduardo Socca\\OneDrive\\Cursos online\\Alura\\7daysofcode\\python - pandas desafio 1\\venv\\Lib\\site-packages\\seaborn\\relational.py:485\u001b[0m, in \u001b[0;36mlineplot\u001b[1;34m(data, x, y, hue, size, style, units, weights, palette, hue_order, hue_norm, sizes, size_order, size_norm, dashes, markers, style_order, estimator, errorbar, n_boot, seed, orient, sort, err_style, err_kws, legend, ci, ax, **kwargs)\u001b[0m\n\u001b[0;32m    471\u001b[0m \u001b[38;5;28;01mdef\u001b[39;00m \u001b[38;5;21mlineplot\u001b[39m(\n\u001b[0;32m    472\u001b[0m     data\u001b[38;5;241m=\u001b[39m\u001b[38;5;28;01mNone\u001b[39;00m, \u001b[38;5;241m*\u001b[39m,\n\u001b[0;32m    473\u001b[0m     x\u001b[38;5;241m=\u001b[39m\u001b[38;5;28;01mNone\u001b[39;00m, y\u001b[38;5;241m=\u001b[39m\u001b[38;5;28;01mNone\u001b[39;00m, hue\u001b[38;5;241m=\u001b[39m\u001b[38;5;28;01mNone\u001b[39;00m, size\u001b[38;5;241m=\u001b[39m\u001b[38;5;28;01mNone\u001b[39;00m, style\u001b[38;5;241m=\u001b[39m\u001b[38;5;28;01mNone\u001b[39;00m, units\u001b[38;5;241m=\u001b[39m\u001b[38;5;28;01mNone\u001b[39;00m, weights\u001b[38;5;241m=\u001b[39m\u001b[38;5;28;01mNone\u001b[39;00m,\n\u001b[1;32m   (...)\u001b[0m\n\u001b[0;32m    481\u001b[0m \n\u001b[0;32m    482\u001b[0m     \u001b[38;5;66;03m# Handle deprecation of ci parameter\u001b[39;00m\n\u001b[0;32m    483\u001b[0m     errorbar \u001b[38;5;241m=\u001b[39m _deprecate_ci(errorbar, ci)\n\u001b[1;32m--> 485\u001b[0m     p \u001b[38;5;241m=\u001b[39m \u001b[43m_LinePlotter\u001b[49m\u001b[43m(\u001b[49m\n\u001b[0;32m    486\u001b[0m \u001b[43m        \u001b[49m\u001b[43mdata\u001b[49m\u001b[38;5;241;43m=\u001b[39;49m\u001b[43mdata\u001b[49m\u001b[43m,\u001b[49m\n\u001b[0;32m    487\u001b[0m \u001b[43m        \u001b[49m\u001b[43mvariables\u001b[49m\u001b[38;5;241;43m=\u001b[39;49m\u001b[38;5;28;43mdict\u001b[39;49m\u001b[43m(\u001b[49m\n\u001b[0;32m    488\u001b[0m \u001b[43m            \u001b[49m\u001b[43mx\u001b[49m\u001b[38;5;241;43m=\u001b[39;49m\u001b[43mx\u001b[49m\u001b[43m,\u001b[49m\u001b[43m \u001b[49m\u001b[43my\u001b[49m\u001b[38;5;241;43m=\u001b[39;49m\u001b[43my\u001b[49m\u001b[43m,\u001b[49m\u001b[43m \u001b[49m\u001b[43mhue\u001b[49m\u001b[38;5;241;43m=\u001b[39;49m\u001b[43mhue\u001b[49m\u001b[43m,\u001b[49m\u001b[43m \u001b[49m\u001b[43msize\u001b[49m\u001b[38;5;241;43m=\u001b[39;49m\u001b[43msize\u001b[49m\u001b[43m,\u001b[49m\u001b[43m \u001b[49m\u001b[43mstyle\u001b[49m\u001b[38;5;241;43m=\u001b[39;49m\u001b[43mstyle\u001b[49m\u001b[43m,\u001b[49m\u001b[43m \u001b[49m\u001b[43munits\u001b[49m\u001b[38;5;241;43m=\u001b[39;49m\u001b[43munits\u001b[49m\u001b[43m,\u001b[49m\u001b[43m \u001b[49m\u001b[43mweight\u001b[49m\u001b[38;5;241;43m=\u001b[39;49m\u001b[43mweights\u001b[49m\n\u001b[0;32m    489\u001b[0m \u001b[43m        \u001b[49m\u001b[43m)\u001b[49m\u001b[43m,\u001b[49m\n\u001b[0;32m    490\u001b[0m \u001b[43m        \u001b[49m\u001b[43mestimator\u001b[49m\u001b[38;5;241;43m=\u001b[39;49m\u001b[43mestimator\u001b[49m\u001b[43m,\u001b[49m\u001b[43m \u001b[49m\u001b[43mn_boot\u001b[49m\u001b[38;5;241;43m=\u001b[39;49m\u001b[43mn_boot\u001b[49m\u001b[43m,\u001b[49m\u001b[43m \u001b[49m\u001b[43mseed\u001b[49m\u001b[38;5;241;43m=\u001b[39;49m\u001b[43mseed\u001b[49m\u001b[43m,\u001b[49m\u001b[43m \u001b[49m\u001b[43merrorbar\u001b[49m\u001b[38;5;241;43m=\u001b[39;49m\u001b[43merrorbar\u001b[49m\u001b[43m,\u001b[49m\n\u001b[0;32m    491\u001b[0m \u001b[43m        \u001b[49m\u001b[43msort\u001b[49m\u001b[38;5;241;43m=\u001b[39;49m\u001b[43msort\u001b[49m\u001b[43m,\u001b[49m\u001b[43m \u001b[49m\u001b[43morient\u001b[49m\u001b[38;5;241;43m=\u001b[39;49m\u001b[43morient\u001b[49m\u001b[43m,\u001b[49m\u001b[43m \u001b[49m\u001b[43merr_style\u001b[49m\u001b[38;5;241;43m=\u001b[39;49m\u001b[43merr_style\u001b[49m\u001b[43m,\u001b[49m\u001b[43m \u001b[49m\u001b[43merr_kws\u001b[49m\u001b[38;5;241;43m=\u001b[39;49m\u001b[43merr_kws\u001b[49m\u001b[43m,\u001b[49m\n\u001b[0;32m    492\u001b[0m \u001b[43m        \u001b[49m\u001b[43mlegend\u001b[49m\u001b[38;5;241;43m=\u001b[39;49m\u001b[43mlegend\u001b[49m\u001b[43m,\u001b[49m\n\u001b[0;32m    493\u001b[0m \u001b[43m    \u001b[49m\u001b[43m)\u001b[49m\n\u001b[0;32m    495\u001b[0m     p\u001b[38;5;241m.\u001b[39mmap_hue(palette\u001b[38;5;241m=\u001b[39mpalette, order\u001b[38;5;241m=\u001b[39mhue_order, norm\u001b[38;5;241m=\u001b[39mhue_norm)\n\u001b[0;32m    496\u001b[0m     p\u001b[38;5;241m.\u001b[39mmap_size(sizes\u001b[38;5;241m=\u001b[39msizes, order\u001b[38;5;241m=\u001b[39msize_order, norm\u001b[38;5;241m=\u001b[39msize_norm)\n",
      "File \u001b[1;32mc:\\Users\\Eduardo Socca\\OneDrive\\Cursos online\\Alura\\7daysofcode\\python - pandas desafio 1\\venv\\Lib\\site-packages\\seaborn\\relational.py:216\u001b[0m, in \u001b[0;36m_LinePlotter.__init__\u001b[1;34m(self, data, variables, estimator, n_boot, seed, errorbar, sort, orient, err_style, err_kws, legend)\u001b[0m\n\u001b[0;32m    202\u001b[0m \u001b[38;5;28;01mdef\u001b[39;00m \u001b[38;5;21m__init__\u001b[39m(\n\u001b[0;32m    203\u001b[0m     \u001b[38;5;28mself\u001b[39m, \u001b[38;5;241m*\u001b[39m,\n\u001b[0;32m    204\u001b[0m     data\u001b[38;5;241m=\u001b[39m\u001b[38;5;28;01mNone\u001b[39;00m, variables\u001b[38;5;241m=\u001b[39m{},\n\u001b[1;32m   (...)\u001b[0m\n\u001b[0;32m    210\u001b[0m     \u001b[38;5;66;03m# the kind of plot to draw, but for the time being we need to set\u001b[39;00m\n\u001b[0;32m    211\u001b[0m     \u001b[38;5;66;03m# this information so the SizeMapping can use it\u001b[39;00m\n\u001b[0;32m    212\u001b[0m     \u001b[38;5;28mself\u001b[39m\u001b[38;5;241m.\u001b[39m_default_size_range \u001b[38;5;241m=\u001b[39m (\n\u001b[0;32m    213\u001b[0m         np\u001b[38;5;241m.\u001b[39mr_[\u001b[38;5;241m.5\u001b[39m, \u001b[38;5;241m2\u001b[39m] \u001b[38;5;241m*\u001b[39m mpl\u001b[38;5;241m.\u001b[39mrcParams[\u001b[38;5;124m\"\u001b[39m\u001b[38;5;124mlines.linewidth\u001b[39m\u001b[38;5;124m\"\u001b[39m]\n\u001b[0;32m    214\u001b[0m     )\n\u001b[1;32m--> 216\u001b[0m     \u001b[38;5;28;43msuper\u001b[39;49m\u001b[43m(\u001b[49m\u001b[43m)\u001b[49m\u001b[38;5;241;43m.\u001b[39;49m\u001b[38;5;21;43m__init__\u001b[39;49m\u001b[43m(\u001b[49m\u001b[43mdata\u001b[49m\u001b[38;5;241;43m=\u001b[39;49m\u001b[43mdata\u001b[49m\u001b[43m,\u001b[49m\u001b[43m \u001b[49m\u001b[43mvariables\u001b[49m\u001b[38;5;241;43m=\u001b[39;49m\u001b[43mvariables\u001b[49m\u001b[43m)\u001b[49m\n\u001b[0;32m    218\u001b[0m     \u001b[38;5;28mself\u001b[39m\u001b[38;5;241m.\u001b[39mestimator \u001b[38;5;241m=\u001b[39m estimator\n\u001b[0;32m    219\u001b[0m     \u001b[38;5;28mself\u001b[39m\u001b[38;5;241m.\u001b[39merrorbar \u001b[38;5;241m=\u001b[39m errorbar\n",
      "File \u001b[1;32mc:\\Users\\Eduardo Socca\\OneDrive\\Cursos online\\Alura\\7daysofcode\\python - pandas desafio 1\\venv\\Lib\\site-packages\\seaborn\\_base.py:634\u001b[0m, in \u001b[0;36mVectorPlotter.__init__\u001b[1;34m(self, data, variables)\u001b[0m\n\u001b[0;32m    629\u001b[0m \u001b[38;5;66;03m# var_ordered is relevant only for categorical axis variables, and may\u001b[39;00m\n\u001b[0;32m    630\u001b[0m \u001b[38;5;66;03m# be better handled by an internal axis information object that tracks\u001b[39;00m\n\u001b[0;32m    631\u001b[0m \u001b[38;5;66;03m# such information and is set up by the scale_* methods. The analogous\u001b[39;00m\n\u001b[0;32m    632\u001b[0m \u001b[38;5;66;03m# information for numeric axes would be information about log scales.\u001b[39;00m\n\u001b[0;32m    633\u001b[0m \u001b[38;5;28mself\u001b[39m\u001b[38;5;241m.\u001b[39m_var_ordered \u001b[38;5;241m=\u001b[39m {\u001b[38;5;124m\"\u001b[39m\u001b[38;5;124mx\u001b[39m\u001b[38;5;124m\"\u001b[39m: \u001b[38;5;28;01mFalse\u001b[39;00m, \u001b[38;5;124m\"\u001b[39m\u001b[38;5;124my\u001b[39m\u001b[38;5;124m\"\u001b[39m: \u001b[38;5;28;01mFalse\u001b[39;00m}  \u001b[38;5;66;03m# alt., used DefaultDict\u001b[39;00m\n\u001b[1;32m--> 634\u001b[0m \u001b[38;5;28;43mself\u001b[39;49m\u001b[38;5;241;43m.\u001b[39;49m\u001b[43massign_variables\u001b[49m\u001b[43m(\u001b[49m\u001b[43mdata\u001b[49m\u001b[43m,\u001b[49m\u001b[43m \u001b[49m\u001b[43mvariables\u001b[49m\u001b[43m)\u001b[49m\n\u001b[0;32m    636\u001b[0m \u001b[38;5;66;03m# TODO Lots of tests assume that these are called to initialize the\u001b[39;00m\n\u001b[0;32m    637\u001b[0m \u001b[38;5;66;03m# mappings to default values on class initialization. I'd prefer to\u001b[39;00m\n\u001b[0;32m    638\u001b[0m \u001b[38;5;66;03m# move away from that and only have a mapping when explicitly called.\u001b[39;00m\n\u001b[0;32m    639\u001b[0m \u001b[38;5;28;01mfor\u001b[39;00m var \u001b[38;5;129;01min\u001b[39;00m [\u001b[38;5;124m\"\u001b[39m\u001b[38;5;124mhue\u001b[39m\u001b[38;5;124m\"\u001b[39m, \u001b[38;5;124m\"\u001b[39m\u001b[38;5;124msize\u001b[39m\u001b[38;5;124m\"\u001b[39m, \u001b[38;5;124m\"\u001b[39m\u001b[38;5;124mstyle\u001b[39m\u001b[38;5;124m\"\u001b[39m]:\n",
      "File \u001b[1;32mc:\\Users\\Eduardo Socca\\OneDrive\\Cursos online\\Alura\\7daysofcode\\python - pandas desafio 1\\venv\\Lib\\site-packages\\seaborn\\_base.py:679\u001b[0m, in \u001b[0;36mVectorPlotter.assign_variables\u001b[1;34m(self, data, variables)\u001b[0m\n\u001b[0;32m    674\u001b[0m \u001b[38;5;28;01melse\u001b[39;00m:\n\u001b[0;32m    675\u001b[0m     \u001b[38;5;66;03m# When dealing with long-form input, use the newer PlotData\u001b[39;00m\n\u001b[0;32m    676\u001b[0m     \u001b[38;5;66;03m# object (internal but introduced for the objects interface)\u001b[39;00m\n\u001b[0;32m    677\u001b[0m     \u001b[38;5;66;03m# to centralize / standardize data consumption logic.\u001b[39;00m\n\u001b[0;32m    678\u001b[0m     \u001b[38;5;28mself\u001b[39m\u001b[38;5;241m.\u001b[39minput_format \u001b[38;5;241m=\u001b[39m \u001b[38;5;124m\"\u001b[39m\u001b[38;5;124mlong\u001b[39m\u001b[38;5;124m\"\u001b[39m\n\u001b[1;32m--> 679\u001b[0m     plot_data \u001b[38;5;241m=\u001b[39m \u001b[43mPlotData\u001b[49m\u001b[43m(\u001b[49m\u001b[43mdata\u001b[49m\u001b[43m,\u001b[49m\u001b[43m \u001b[49m\u001b[43mvariables\u001b[49m\u001b[43m)\u001b[49m\n\u001b[0;32m    680\u001b[0m     frame \u001b[38;5;241m=\u001b[39m plot_data\u001b[38;5;241m.\u001b[39mframe\n\u001b[0;32m    681\u001b[0m     names \u001b[38;5;241m=\u001b[39m plot_data\u001b[38;5;241m.\u001b[39mnames\n",
      "File \u001b[1;32mc:\\Users\\Eduardo Socca\\OneDrive\\Cursos online\\Alura\\7daysofcode\\python - pandas desafio 1\\venv\\Lib\\site-packages\\seaborn\\_core\\data.py:58\u001b[0m, in \u001b[0;36mPlotData.__init__\u001b[1;34m(self, data, variables)\u001b[0m\n\u001b[0;32m     51\u001b[0m \u001b[38;5;28;01mdef\u001b[39;00m \u001b[38;5;21m__init__\u001b[39m(\n\u001b[0;32m     52\u001b[0m     \u001b[38;5;28mself\u001b[39m,\n\u001b[0;32m     53\u001b[0m     data: DataSource,\n\u001b[0;32m     54\u001b[0m     variables: \u001b[38;5;28mdict\u001b[39m[\u001b[38;5;28mstr\u001b[39m, VariableSpec],\n\u001b[0;32m     55\u001b[0m ):\n\u001b[0;32m     57\u001b[0m     data \u001b[38;5;241m=\u001b[39m handle_data_source(data)\n\u001b[1;32m---> 58\u001b[0m     frame, names, ids \u001b[38;5;241m=\u001b[39m \u001b[38;5;28;43mself\u001b[39;49m\u001b[38;5;241;43m.\u001b[39;49m\u001b[43m_assign_variables\u001b[49m\u001b[43m(\u001b[49m\u001b[43mdata\u001b[49m\u001b[43m,\u001b[49m\u001b[43m \u001b[49m\u001b[43mvariables\u001b[49m\u001b[43m)\u001b[49m\n\u001b[0;32m     60\u001b[0m     \u001b[38;5;28mself\u001b[39m\u001b[38;5;241m.\u001b[39mframe \u001b[38;5;241m=\u001b[39m frame\n\u001b[0;32m     61\u001b[0m     \u001b[38;5;28mself\u001b[39m\u001b[38;5;241m.\u001b[39mnames \u001b[38;5;241m=\u001b[39m names\n",
      "File \u001b[1;32mc:\\Users\\Eduardo Socca\\OneDrive\\Cursos online\\Alura\\7daysofcode\\python - pandas desafio 1\\venv\\Lib\\site-packages\\seaborn\\_core\\data.py:232\u001b[0m, in \u001b[0;36mPlotData._assign_variables\u001b[1;34m(self, data, variables)\u001b[0m\n\u001b[0;32m    230\u001b[0m     \u001b[38;5;28;01melse\u001b[39;00m:\n\u001b[0;32m    231\u001b[0m         err \u001b[38;5;241m+\u001b[39m\u001b[38;5;241m=\u001b[39m \u001b[38;5;124m\"\u001b[39m\u001b[38;5;124mAn entry with this name does not appear in `data`.\u001b[39m\u001b[38;5;124m\"\u001b[39m\n\u001b[1;32m--> 232\u001b[0m     \u001b[38;5;28;01mraise\u001b[39;00m \u001b[38;5;167;01mValueError\u001b[39;00m(err)\n\u001b[0;32m    234\u001b[0m \u001b[38;5;28;01melse\u001b[39;00m:\n\u001b[0;32m    235\u001b[0m \n\u001b[0;32m    236\u001b[0m     \u001b[38;5;66;03m# Otherwise, assume the value somehow represents data\u001b[39;00m\n\u001b[0;32m    237\u001b[0m \n\u001b[0;32m    238\u001b[0m     \u001b[38;5;66;03m# Ignore empty data structures\u001b[39;00m\n\u001b[0;32m    239\u001b[0m     \u001b[38;5;28;01mif\u001b[39;00m \u001b[38;5;28misinstance\u001b[39m(val, Sized) \u001b[38;5;129;01mand\u001b[39;00m \u001b[38;5;28mlen\u001b[39m(val) \u001b[38;5;241m==\u001b[39m \u001b[38;5;241m0\u001b[39m:\n",
      "\u001b[1;31mValueError\u001b[0m: Could not interpret value `count` for `y`. An entry with this name does not appear in `data`."
     ]
    }
   ],
   "source": [
    "ax = sns.lineplot(data = total_emprestimos, x = 'ano_emprestimo', y = 'count')\n",
    "ax.set(xlabel = 'Quantidade', ylabel = 'Ano')\n",
    "ax.tick_params(axis = 'x', rotation = 30)\n",
    "ax.yaxis.set_major_formatter(ticker.FuncFormatter(lambda x, p: format(int(x), ',').replace(',', '.')))\n",
    "ax.set_title(\"Quantidade de exemplares emprestados por ano\"+'\\n', size = 20, loc = 'left', weight = 'bold')\n",
    "\n",
    "ax = ax\n"
   ]
  },
  {
   "cell_type": "code",
   "execution_count": null,
   "metadata": {},
   "outputs": [],
   "source": [
    "total_emprestimos"
   ]
  },
  {
   "cell_type": "code",
   "execution_count": null,
   "metadata": {},
   "outputs": [],
   "source": []
  },
  {
   "cell_type": "code",
   "execution_count": null,
   "metadata": {},
   "outputs": [],
   "source": [
    "plt.figure(figsize=(20, 16))\n",
    "\n",
    "# Iterar sobre cada ano e plotar os dados correspondentes\n",
    "for ano in total_emprestimos['ano_emprestimo'].unique():\n",
    "    dados_ano = total_emprestimos[total_emprestimos['ano_emprestimo'] == ano]\n",
    "    plt.plot(dados_ano['mes_emprestimo'], dados_ano['quantidade'], marker = 'o', label = str(ano))\n",
    "\n",
    "plt.legend(title='Ano')\n",
    "plt.grid = True\n",
    "\n",
    "\n",
    "plt.show()"
   ]
  },
  {
   "cell_type": "markdown",
   "metadata": {},
   "source": [
    "### Verificando os emprestimos ao longo do dia"
   ]
  },
  {
   "cell_type": "markdown",
   "metadata": {},
   "source": [
    "dados_acervo['hora_emprestimo']=dados_acervo['data_emprestimo'].dt.hour\n",
    "dados_acervo"
   ]
  }
 ],
 "metadata": {
  "kernelspec": {
   "display_name": "venv",
   "language": "python",
   "name": "python3"
  },
  "language_info": {
   "codemirror_mode": {
    "name": "ipython",
    "version": 3
   },
   "file_extension": ".py",
   "mimetype": "text/x-python",
   "name": "python",
   "nbconvert_exporter": "python",
   "pygments_lexer": "ipython3",
   "version": "3.12.3"
  }
 },
 "nbformat": 4,
 "nbformat_minor": 2
}
