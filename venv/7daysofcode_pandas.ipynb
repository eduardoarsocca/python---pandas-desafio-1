{
 "cells": [
  {
   "cell_type": "markdown",
   "metadata": {},
   "source": [
    "# 0. BiBliotecas instaladas"
   ]
  },
  {
   "cell_type": "code",
   "execution_count": 1,
   "metadata": {},
   "outputs": [],
   "source": [
    "# !pip install ipykernel # para utilizar o jupyter notebook no vscode\n",
    "# !pip install pandas # a biblioteca numpy vem instalada nativamente com o pandas\n",
    "# !pip install pyarrow # requisitado para ler arquivos do tipo .parquet\n",
    "# !pip install datetime # fazer conversão dos tipos para data\n",
    "# !pip install matplotlib\n",
    "# !pip install seaborn"
   ]
  },
  {
   "cell_type": "markdown",
   "metadata": {},
   "source": [
    "# 1. Importando as Bibiotecas"
   ]
  },
  {
   "cell_type": "code",
   "execution_count": 2,
   "metadata": {},
   "outputs": [],
   "source": [
    "%matplotlib inline"
   ]
  },
  {
   "cell_type": "code",
   "execution_count": 3,
   "metadata": {},
   "outputs": [],
   "source": [
    "import pandas as pd\n",
    "import time\n",
    "from datetime import date\n",
    "import matplotlib.pyplot as plt\n",
    "import seaborn as sns\n"
   ]
  },
  {
   "cell_type": "markdown",
   "metadata": {},
   "source": [
    "# 2. Carregando os arquivos"
   ]
  },
  {
   "cell_type": "markdown",
   "metadata": {},
   "source": [
    "## 2.1. Carregando o arquivo .parquet importado do github"
   ]
  },
  {
   "cell_type": "code",
   "execution_count": 4,
   "metadata": {},
   "outputs": [
    {
     "data": {
      "text/html": [
       "<div>\n",
       "<style scoped>\n",
       "    .dataframe tbody tr th:only-of-type {\n",
       "        vertical-align: middle;\n",
       "    }\n",
       "\n",
       "    .dataframe tbody tr th {\n",
       "        vertical-align: top;\n",
       "    }\n",
       "\n",
       "    .dataframe thead th {\n",
       "        text-align: right;\n",
       "    }\n",
       "</style>\n",
       "<table border=\"1\" class=\"dataframe\">\n",
       "  <thead>\n",
       "    <tr style=\"text-align: right;\">\n",
       "      <th></th>\n",
       "      <th>id_exemplar</th>\n",
       "      <th>codigo_barras</th>\n",
       "      <th>colecao</th>\n",
       "      <th>biblioteca</th>\n",
       "      <th>status_material</th>\n",
       "      <th>localizacao</th>\n",
       "      <th>registro_sistema</th>\n",
       "    </tr>\n",
       "    <tr>\n",
       "      <th>index</th>\n",
       "      <th></th>\n",
       "      <th></th>\n",
       "      <th></th>\n",
       "      <th></th>\n",
       "      <th></th>\n",
       "      <th></th>\n",
       "      <th></th>\n",
       "    </tr>\n",
       "  </thead>\n",
       "  <tbody>\n",
       "    <tr>\n",
       "      <th>0</th>\n",
       "      <td>5</td>\n",
       "      <td>L000003</td>\n",
       "      <td>Acervo Circulante</td>\n",
       "      <td>Biblioteca Central Zila Mamede</td>\n",
       "      <td>REGULAR</td>\n",
       "      <td>694</td>\n",
       "      <td>1</td>\n",
       "    </tr>\n",
       "    <tr>\n",
       "      <th>1</th>\n",
       "      <td>4</td>\n",
       "      <td>L000002</td>\n",
       "      <td>Acervo Circulante</td>\n",
       "      <td>Biblioteca Central Zila Mamede</td>\n",
       "      <td>REGULAR</td>\n",
       "      <td>688</td>\n",
       "      <td>1</td>\n",
       "    </tr>\n",
       "    <tr>\n",
       "      <th>2</th>\n",
       "      <td>3</td>\n",
       "      <td>L000001</td>\n",
       "      <td>Acervo Circulante</td>\n",
       "      <td>Biblioteca Central Zila Mamede</td>\n",
       "      <td>ESPECIAL</td>\n",
       "      <td>638</td>\n",
       "      <td>1</td>\n",
       "    </tr>\n",
       "    <tr>\n",
       "      <th>3</th>\n",
       "      <td>7</td>\n",
       "      <td>L000114</td>\n",
       "      <td>Acervo Circulante</td>\n",
       "      <td>Biblioteca Central Zila Mamede</td>\n",
       "      <td>REGULAR</td>\n",
       "      <td>616</td>\n",
       "      <td>5</td>\n",
       "    </tr>\n",
       "    <tr>\n",
       "      <th>5</th>\n",
       "      <td>10</td>\n",
       "      <td>L000041</td>\n",
       "      <td>Acervo Circulante</td>\n",
       "      <td>Biblioteca Central Zila Mamede</td>\n",
       "      <td>ESPECIAL</td>\n",
       "      <td>657</td>\n",
       "      <td>15</td>\n",
       "    </tr>\n",
       "  </tbody>\n",
       "</table>\n",
       "</div>"
      ],
      "text/plain": [
       "       id_exemplar codigo_barras            colecao  \\\n",
       "index                                                 \n",
       "0                5       L000003  Acervo Circulante   \n",
       "1                4       L000002  Acervo Circulante   \n",
       "2                3       L000001  Acervo Circulante   \n",
       "3                7       L000114  Acervo Circulante   \n",
       "5               10       L000041  Acervo Circulante   \n",
       "\n",
       "                           biblioteca status_material  localizacao  \\\n",
       "index                                                                \n",
       "0      Biblioteca Central Zila Mamede         REGULAR          694   \n",
       "1      Biblioteca Central Zila Mamede         REGULAR          688   \n",
       "2      Biblioteca Central Zila Mamede        ESPECIAL          638   \n",
       "3      Biblioteca Central Zila Mamede         REGULAR          616   \n",
       "5      Biblioteca Central Zila Mamede        ESPECIAL          657   \n",
       "\n",
       "       registro_sistema  \n",
       "index                    \n",
       "0                     1  \n",
       "1                     1  \n",
       "2                     1  \n",
       "3                     5  \n",
       "5                    15  "
      ]
     },
     "execution_count": 4,
     "metadata": {},
     "output_type": "execute_result"
    }
   ],
   "source": [
    "arquivo_parquet = r'C:\\Users\\Eduardo Socca\\OneDrive\\Cursos online\\Alura\\7daysofcode\\python - pandas desafio 1\\venv\\dados_exemplares.parquet'\n",
    "dados_exemplares = pd.read_parquet(arquivo_parquet)\n",
    "\n",
    "dados_exemplares.head()"
   ]
  },
  {
   "cell_type": "markdown",
   "metadata": {},
   "source": [
    "## 2.2. Importando os arquivos .csv diretamente do github"
   ]
  },
  {
   "cell_type": "code",
   "execution_count": 5,
   "metadata": {},
   "outputs": [],
   "source": [
    "# Durante a execução deste projeto, foram verificados 21 arquivos csv no link disponibilizado\n",
    "emprestimos_20101 = 'https://github.com/FranciscoFoz/7_Days_of_Code_Alura-Python-Pandas/blob/main/Dia_1-Importando_dados/Datasets/dados_emprestimos/emprestimos-20101.csv'\n",
    "emprestimos_20102 = 'https://github.com/FranciscoFoz/7_Days_of_Code_Alura-Python-Pandas/blob/main/Dia_1-Importando_dados/Datasets/dados_emprestimos/emprestimos-20102.csv'\n",
    "emprestimos_20111 = 'https://github.com/FranciscoFoz/7_Days_of_Code_Alura-Python-Pandas/blob/main/Dia_1-Importando_dados/Datasets/dados_emprestimos/emprestimos-20111.csv'\n",
    "emprestimos_20112 = 'https://github.com/FranciscoFoz/7_Days_of_Code_Alura-Python-Pandas/blob/main/Dia_1-Importando_dados/Datasets/dados_emprestimos/emprestimos-20112.csv'\n",
    "emprestimos_20121 = 'https://github.com/FranciscoFoz/7_Days_of_Code_Alura-Python-Pandas/blob/main/Dia_1-Importando_dados/Datasets/dados_emprestimos/emprestimos-20121.csv'\n",
    "emprestimos_20122 = 'https://github.com/FranciscoFoz/7_Days_of_Code_Alura-Python-Pandas/blob/main/Dia_1-Importando_dados/Datasets/dados_emprestimos/emprestimos-20122.csv'\n",
    "emprestimos_20131 = 'https://github.com/FranciscoFoz/7_Days_of_Code_Alura-Python-Pandas/blob/main/Dia_1-Importando_dados/Datasets/dados_emprestimos/emprestimos-20131.csv'\n",
    "emprestimos_20132 = 'https://github.com/FranciscoFoz/7_Days_of_Code_Alura-Python-Pandas/blob/main/Dia_1-Importando_dados/Datasets/dados_emprestimos/emprestimos-20132.csv'\n",
    "emprestimos_20141 = 'https://github.com/FranciscoFoz/7_Days_of_Code_Alura-Python-Pandas/blob/main/Dia_1-Importando_dados/Datasets/dados_emprestimos/emprestimos-20141.csv'\n",
    "emprestimos_20142 = 'https://github.com/FranciscoFoz/7_Days_of_Code_Alura-Python-Pandas/blob/main/Dia_1-Importando_dados/Datasets/dados_emprestimos/emprestimos-20142.csv'\n",
    "emprestimos_20151 = 'https://github.com/FranciscoFoz/7_Days_of_Code_Alura-Python-Pandas/blob/main/Dia_1-Importando_dados/Datasets/dados_emprestimos/emprestimos-20151.csv'\n",
    "emprestimos_20152 = 'https://github.com/FranciscoFoz/7_Days_of_Code_Alura-Python-Pandas/blob/main/Dia_1-Importando_dados/Datasets/dados_emprestimos/emprestimos-20152.csv'\n",
    "emprestimos_20161 = 'https://github.com/FranciscoFoz/7_Days_of_Code_Alura-Python-Pandas/blob/main/Dia_1-Importando_dados/Datasets/dados_emprestimos/emprestimos-20161.csv'\n",
    "emprestimos_20162 = 'https://github.com/FranciscoFoz/7_Days_of_Code_Alura-Python-Pandas/blob/main/Dia_1-Importando_dados/Datasets/dados_emprestimos/emprestimos-20162.csv'\n",
    "emprestimos_20171 = 'https://github.com/FranciscoFoz/7_Days_of_Code_Alura-Python-Pandas/blob/main/Dia_1-Importando_dados/Datasets/dados_emprestimos/emprestimos-20171.csv'\n",
    "emprestimos_20172 = 'https://github.com/FranciscoFoz/7_Days_of_Code_Alura-Python-Pandas/blob/main/Dia_1-Importando_dados/Datasets/dados_emprestimos/emprestimos-20172.csv'\n",
    "emprestimos_20181 = 'https://github.com/FranciscoFoz/7_Days_of_Code_Alura-Python-Pandas/blob/main/Dia_1-Importando_dados/Datasets/dados_emprestimos/emprestimos-20181.csv'\n",
    "emprestimos_20182 = 'https://github.com/FranciscoFoz/7_Days_of_Code_Alura-Python-Pandas/blob/main/Dia_1-Importando_dados/Datasets/dados_emprestimos/emprestimos-20182.csv'\n",
    "emprestimos_20191 = 'https://github.com/FranciscoFoz/7_Days_of_Code_Alura-Python-Pandas/blob/main/Dia_1-Importando_dados/Datasets/dados_emprestimos/emprestimos-20191.csv'\n",
    "emprestimos_20192 = 'https://github.com/FranciscoFoz/7_Days_of_Code_Alura-Python-Pandas/blob/main/Dia_1-Importando_dados/Datasets/dados_emprestimos/emprestimos-20192.csv'\n",
    "emprestimos_20201 = 'https://github.com/FranciscoFoz/7_Days_of_Code_Alura-Python-Pandas/blob/main/Dia_1-Importando_dados/Datasets/dados_emprestimos/emprestimos-20201.csv'\n"
   ]
  },
  {
   "cell_type": "code",
   "execution_count": 6,
   "metadata": {},
   "outputs": [],
   "source": [
    "# transformando os arquivos em uma lista\n",
    "\n",
    "lista_emprestimos = [emprestimos_20101,\n",
    "                     emprestimos_20102,\n",
    "                     emprestimos_20111,\n",
    "                     emprestimos_20112,\n",
    "                     emprestimos_20121,\n",
    "                     emprestimos_20122,\n",
    "                     emprestimos_20131,\n",
    "                     emprestimos_20132,\n",
    "                     emprestimos_20141,\n",
    "                     emprestimos_20142,\n",
    "                     emprestimos_20151,\n",
    "                     emprestimos_20152,\n",
    "                     emprestimos_20161,\n",
    "                     emprestimos_20162,\n",
    "                     emprestimos_20171,\n",
    "                     emprestimos_20172,\n",
    "                     emprestimos_20181,\n",
    "                     emprestimos_20182,\n",
    "                     emprestimos_20191,\n",
    "                     emprestimos_20192,\n",
    "                     emprestimos_20201\n",
    "\n",
    "    \n",
    "]"
   ]
  },
  {
   "cell_type": "code",
   "execution_count": 7,
   "metadata": {},
   "outputs": [
    {
     "name": "stdout",
     "output_type": "stream",
     "text": [
      "['https://github.com/FranciscoFoz/7_Days_of_Code_Alura-Python-Pandas/blob/main/Dia_1-Importando_dados/Datasets/dados_emprestimos/emprestimos-20101.csv', 'https://github.com/FranciscoFoz/7_Days_of_Code_Alura-Python-Pandas/blob/main/Dia_1-Importando_dados/Datasets/dados_emprestimos/emprestimos-20102.csv', 'https://github.com/FranciscoFoz/7_Days_of_Code_Alura-Python-Pandas/blob/main/Dia_1-Importando_dados/Datasets/dados_emprestimos/emprestimos-20111.csv', 'https://github.com/FranciscoFoz/7_Days_of_Code_Alura-Python-Pandas/blob/main/Dia_1-Importando_dados/Datasets/dados_emprestimos/emprestimos-20112.csv', 'https://github.com/FranciscoFoz/7_Days_of_Code_Alura-Python-Pandas/blob/main/Dia_1-Importando_dados/Datasets/dados_emprestimos/emprestimos-20121.csv', 'https://github.com/FranciscoFoz/7_Days_of_Code_Alura-Python-Pandas/blob/main/Dia_1-Importando_dados/Datasets/dados_emprestimos/emprestimos-20122.csv', 'https://github.com/FranciscoFoz/7_Days_of_Code_Alura-Python-Pandas/blob/main/Dia_1-Importando_dados/Datasets/dados_emprestimos/emprestimos-20131.csv', 'https://github.com/FranciscoFoz/7_Days_of_Code_Alura-Python-Pandas/blob/main/Dia_1-Importando_dados/Datasets/dados_emprestimos/emprestimos-20132.csv', 'https://github.com/FranciscoFoz/7_Days_of_Code_Alura-Python-Pandas/blob/main/Dia_1-Importando_dados/Datasets/dados_emprestimos/emprestimos-20141.csv', 'https://github.com/FranciscoFoz/7_Days_of_Code_Alura-Python-Pandas/blob/main/Dia_1-Importando_dados/Datasets/dados_emprestimos/emprestimos-20142.csv', 'https://github.com/FranciscoFoz/7_Days_of_Code_Alura-Python-Pandas/blob/main/Dia_1-Importando_dados/Datasets/dados_emprestimos/emprestimos-20151.csv', 'https://github.com/FranciscoFoz/7_Days_of_Code_Alura-Python-Pandas/blob/main/Dia_1-Importando_dados/Datasets/dados_emprestimos/emprestimos-20152.csv', 'https://github.com/FranciscoFoz/7_Days_of_Code_Alura-Python-Pandas/blob/main/Dia_1-Importando_dados/Datasets/dados_emprestimos/emprestimos-20161.csv', 'https://github.com/FranciscoFoz/7_Days_of_Code_Alura-Python-Pandas/blob/main/Dia_1-Importando_dados/Datasets/dados_emprestimos/emprestimos-20162.csv', 'https://github.com/FranciscoFoz/7_Days_of_Code_Alura-Python-Pandas/blob/main/Dia_1-Importando_dados/Datasets/dados_emprestimos/emprestimos-20171.csv', 'https://github.com/FranciscoFoz/7_Days_of_Code_Alura-Python-Pandas/blob/main/Dia_1-Importando_dados/Datasets/dados_emprestimos/emprestimos-20172.csv', 'https://github.com/FranciscoFoz/7_Days_of_Code_Alura-Python-Pandas/blob/main/Dia_1-Importando_dados/Datasets/dados_emprestimos/emprestimos-20181.csv', 'https://github.com/FranciscoFoz/7_Days_of_Code_Alura-Python-Pandas/blob/main/Dia_1-Importando_dados/Datasets/dados_emprestimos/emprestimos-20182.csv', 'https://github.com/FranciscoFoz/7_Days_of_Code_Alura-Python-Pandas/blob/main/Dia_1-Importando_dados/Datasets/dados_emprestimos/emprestimos-20191.csv', 'https://github.com/FranciscoFoz/7_Days_of_Code_Alura-Python-Pandas/blob/main/Dia_1-Importando_dados/Datasets/dados_emprestimos/emprestimos-20192.csv', 'https://github.com/FranciscoFoz/7_Days_of_Code_Alura-Python-Pandas/blob/main/Dia_1-Importando_dados/Datasets/dados_emprestimos/emprestimos-20201.csv']\n"
     ]
    }
   ],
   "source": [
    "print(lista_emprestimos)"
   ]
  },
  {
   "cell_type": "code",
   "execution_count": 8,
   "metadata": {},
   "outputs": [],
   "source": [
    "# Como é possivel notar, a url está com o trecho '/blob/' que não exibe exatamente os arquivos .csv.\n",
    "# Desta forma, vamos substituir '/blob/' por '/raw/'\n",
    "\n",
    "urls_csv = [url.replace('/blob/', '/raw/') for url in lista_emprestimos]\n"
   ]
  },
  {
   "cell_type": "code",
   "execution_count": 9,
   "metadata": {},
   "outputs": [],
   "source": [
    "# vamos criar agora uma lista vazia para armazenar os dataframes\n",
    "\n",
    "dfs = []\n",
    "\n",
    "# Criar um loop para ler os arquivos csv e armazenar no dataframe\n",
    "for url in urls_csv:\n",
    "    df = pd.read_csv(url)\n",
    "    dfs.append(df)"
   ]
  },
  {
   "cell_type": "code",
   "execution_count": 10,
   "metadata": {},
   "outputs": [
    {
     "data": {
      "text/html": [
       "<div>\n",
       "<style scoped>\n",
       "    .dataframe tbody tr th:only-of-type {\n",
       "        vertical-align: middle;\n",
       "    }\n",
       "\n",
       "    .dataframe tbody tr th {\n",
       "        vertical-align: top;\n",
       "    }\n",
       "\n",
       "    .dataframe thead th {\n",
       "        text-align: right;\n",
       "    }\n",
       "</style>\n",
       "<table border=\"1\" class=\"dataframe\">\n",
       "  <thead>\n",
       "    <tr style=\"text-align: right;\">\n",
       "      <th></th>\n",
       "      <th>id_emprestimo</th>\n",
       "      <th>codigo_barras</th>\n",
       "      <th>data_renovacao</th>\n",
       "      <th>data_emprestimo</th>\n",
       "      <th>data_devolucao</th>\n",
       "      <th>matricula_ou_siape</th>\n",
       "      <th>tipo_vinculo_usuario</th>\n",
       "    </tr>\n",
       "  </thead>\n",
       "  <tbody>\n",
       "    <tr>\n",
       "      <th>0</th>\n",
       "      <td>709684</td>\n",
       "      <td>L095049</td>\n",
       "      <td>NaN</td>\n",
       "      <td>2010/01/04 07:44:10.721000000</td>\n",
       "      <td>2010/01/05 16:26:12.662000000</td>\n",
       "      <td>2.008023e+09</td>\n",
       "      <td>ALUNO DE GRADUAÇÃO</td>\n",
       "    </tr>\n",
       "    <tr>\n",
       "      <th>1</th>\n",
       "      <td>709685</td>\n",
       "      <td>L167050</td>\n",
       "      <td>NaN</td>\n",
       "      <td>2010/01/04 07:44:10.750000000</td>\n",
       "      <td>2010/01/12 07:34:13.934000000</td>\n",
       "      <td>2.008023e+09</td>\n",
       "      <td>ALUNO DE GRADUAÇÃO</td>\n",
       "    </tr>\n",
       "    <tr>\n",
       "      <th>2</th>\n",
       "      <td>709686</td>\n",
       "      <td>2006017618</td>\n",
       "      <td>2010/01/26 08:07:01.738000000</td>\n",
       "      <td>2010/01/04 08:08:44.081000000</td>\n",
       "      <td>2010/02/25 07:36:25.800000000</td>\n",
       "      <td>2.008112e+09</td>\n",
       "      <td>ALUNO DE PÓS-GRADUAÇÃO</td>\n",
       "    </tr>\n",
       "    <tr>\n",
       "      <th>3</th>\n",
       "      <td>709687</td>\n",
       "      <td>L184117</td>\n",
       "      <td>2010/01/18 11:07:46.470000000</td>\n",
       "      <td>2010/01/04 08:24:21.284000000</td>\n",
       "      <td>2010/02/03 08:58:45.692000000</td>\n",
       "      <td>2.007211e+08</td>\n",
       "      <td>ALUNO DE GRADUAÇÃO</td>\n",
       "    </tr>\n",
       "    <tr>\n",
       "      <th>4</th>\n",
       "      <td>709684</td>\n",
       "      <td>L095049</td>\n",
       "      <td>NaN</td>\n",
       "      <td>2010/01/04 07:44:10.721000000</td>\n",
       "      <td>2010/01/05 16:26:12.662000000</td>\n",
       "      <td>2.008023e+09</td>\n",
       "      <td>ALUNO DE GRADUAÇÃO</td>\n",
       "    </tr>\n",
       "  </tbody>\n",
       "</table>\n",
       "</div>"
      ],
      "text/plain": [
       "   id_emprestimo codigo_barras                 data_renovacao  \\\n",
       "0         709684       L095049                            NaN   \n",
       "1         709685       L167050                            NaN   \n",
       "2         709686    2006017618  2010/01/26 08:07:01.738000000   \n",
       "3         709687       L184117  2010/01/18 11:07:46.470000000   \n",
       "4         709684       L095049                            NaN   \n",
       "\n",
       "                 data_emprestimo                 data_devolucao  \\\n",
       "0  2010/01/04 07:44:10.721000000  2010/01/05 16:26:12.662000000   \n",
       "1  2010/01/04 07:44:10.750000000  2010/01/12 07:34:13.934000000   \n",
       "2  2010/01/04 08:08:44.081000000  2010/02/25 07:36:25.800000000   \n",
       "3  2010/01/04 08:24:21.284000000  2010/02/03 08:58:45.692000000   \n",
       "4  2010/01/04 07:44:10.721000000  2010/01/05 16:26:12.662000000   \n",
       "\n",
       "   matricula_ou_siape    tipo_vinculo_usuario  \n",
       "0        2.008023e+09      ALUNO DE GRADUAÇÃO  \n",
       "1        2.008023e+09      ALUNO DE GRADUAÇÃO  \n",
       "2        2.008112e+09  ALUNO DE PÓS-GRADUAÇÃO  \n",
       "3        2.007211e+08      ALUNO DE GRADUAÇÃO  \n",
       "4        2.008023e+09      ALUNO DE GRADUAÇÃO  "
      ]
     },
     "execution_count": 10,
     "metadata": {},
     "output_type": "execute_result"
    }
   ],
   "source": [
    "# concatenando todos os dataframes em um dataframe único\n",
    "\n",
    "dados_emprestimos = pd.concat(dfs, ignore_index=True)\n",
    "\n",
    "# Exibindo o dataframe final\n",
    "dados_emprestimos.head()"
   ]
  },
  {
   "cell_type": "markdown",
   "metadata": {},
   "source": [
    "## 2.3. Unindo os dois dataframes -> acervo e emprestimos"
   ]
  },
  {
   "cell_type": "code",
   "execution_count": 11,
   "metadata": {},
   "outputs": [
    {
     "data": {
      "text/plain": [
       "Index(['id_emprestimo', 'codigo_barras', 'data_renovacao', 'data_emprestimo',\n",
       "       'data_devolucao', 'matricula_ou_siape', 'tipo_vinculo_usuario'],\n",
       "      dtype='object')"
      ]
     },
     "execution_count": 11,
     "metadata": {},
     "output_type": "execute_result"
    }
   ],
   "source": [
    "dados_emprestimos.columns"
   ]
  },
  {
   "cell_type": "code",
   "execution_count": 12,
   "metadata": {},
   "outputs": [
    {
     "data": {
      "text/plain": [
       "Index(['id_exemplar', 'codigo_barras', 'colecao', 'biblioteca',\n",
       "       'status_material', 'localizacao', 'registro_sistema'],\n",
       "      dtype='object')"
      ]
     },
     "execution_count": 12,
     "metadata": {},
     "output_type": "execute_result"
    }
   ],
   "source": [
    "dados_exemplares.columns"
   ]
  },
  {
   "cell_type": "code",
   "execution_count": 13,
   "metadata": {},
   "outputs": [
    {
     "data": {
      "text/html": [
       "<div>\n",
       "<style scoped>\n",
       "    .dataframe tbody tr th:only-of-type {\n",
       "        vertical-align: middle;\n",
       "    }\n",
       "\n",
       "    .dataframe tbody tr th {\n",
       "        vertical-align: top;\n",
       "    }\n",
       "\n",
       "    .dataframe thead th {\n",
       "        text-align: right;\n",
       "    }\n",
       "</style>\n",
       "<table border=\"1\" class=\"dataframe\">\n",
       "  <thead>\n",
       "    <tr style=\"text-align: right;\">\n",
       "      <th></th>\n",
       "      <th>id_exemplar</th>\n",
       "      <th>codigo_barras</th>\n",
       "      <th>colecao</th>\n",
       "      <th>biblioteca</th>\n",
       "      <th>status_material</th>\n",
       "      <th>localizacao</th>\n",
       "      <th>registro_sistema</th>\n",
       "      <th>id_emprestimo</th>\n",
       "      <th>data_renovacao</th>\n",
       "      <th>data_emprestimo</th>\n",
       "      <th>data_devolucao</th>\n",
       "      <th>matricula_ou_siape</th>\n",
       "      <th>tipo_vinculo_usuario</th>\n",
       "    </tr>\n",
       "  </thead>\n",
       "  <tbody>\n",
       "    <tr>\n",
       "      <th>0</th>\n",
       "      <td>27</td>\n",
       "      <td>L000133_11/05/2018 08:57:56</td>\n",
       "      <td>Acervo Circulante</td>\n",
       "      <td>Biblioteca Central Zila Mamede</td>\n",
       "      <td>REGULAR</td>\n",
       "      <td>691</td>\n",
       "      <td>37</td>\n",
       "      <td>818501</td>\n",
       "      <td>NaN</td>\n",
       "      <td>2010/08/17 17:00:04.440000000</td>\n",
       "      <td>2010/08/17 17:09:15.000000000</td>\n",
       "      <td>2.010060e+09</td>\n",
       "      <td>ALUNO DE GRADUAÇÃO</td>\n",
       "    </tr>\n",
       "    <tr>\n",
       "      <th>1</th>\n",
       "      <td>43</td>\n",
       "      <td>L000154</td>\n",
       "      <td>Acervo Circulante</td>\n",
       "      <td>Biblioteca Central Zila Mamede</td>\n",
       "      <td>REGULAR</td>\n",
       "      <td>616</td>\n",
       "      <td>59</td>\n",
       "      <td>2037061</td>\n",
       "      <td>2015/08/24 21:55:47.110000000</td>\n",
       "      <td>2015/08/03 10:39:42.972000000</td>\n",
       "      <td>2015/10/19 08:52:30.000000000</td>\n",
       "      <td>2.013034e+09</td>\n",
       "      <td>ALUNO DE GRADUAÇÃO</td>\n",
       "    </tr>\n",
       "    <tr>\n",
       "      <th>2</th>\n",
       "      <td>61</td>\n",
       "      <td>L000267_14/07/2017 09:31:00</td>\n",
       "      <td>Dissertações</td>\n",
       "      <td>Biblioteca Central Zila Mamede</td>\n",
       "      <td>ESPECIAL</td>\n",
       "      <td>690</td>\n",
       "      <td>90</td>\n",
       "      <td>1212301</td>\n",
       "      <td>NaN</td>\n",
       "      <td>2012/03/30 14:35:52.264000000</td>\n",
       "      <td>2012/04/02 17:06:11.000000000</td>\n",
       "      <td>2.011096e+09</td>\n",
       "      <td>ALUNO DE GRADUAÇÃO</td>\n",
       "    </tr>\n",
       "    <tr>\n",
       "      <th>3</th>\n",
       "      <td>100</td>\n",
       "      <td>L144235</td>\n",
       "      <td>Acervo Circulante</td>\n",
       "      <td>Biblioteca Central Zila Mamede</td>\n",
       "      <td>REGULAR</td>\n",
       "      <td>650</td>\n",
       "      <td>153</td>\n",
       "      <td>775420</td>\n",
       "      <td>2010/05/31 00:35:54.869000000</td>\n",
       "      <td>2010/05/14 17:58:11.558000000</td>\n",
       "      <td>2010/06/17 19:34:11.000000000</td>\n",
       "      <td>2.004286e+08</td>\n",
       "      <td>ALUNO DE GRADUAÇÃO</td>\n",
       "    </tr>\n",
       "    <tr>\n",
       "      <th>4</th>\n",
       "      <td>100</td>\n",
       "      <td>L144235</td>\n",
       "      <td>Acervo Circulante</td>\n",
       "      <td>Biblioteca Central Zila Mamede</td>\n",
       "      <td>REGULAR</td>\n",
       "      <td>650</td>\n",
       "      <td>153</td>\n",
       "      <td>800617</td>\n",
       "      <td>2010/07/21 11:39:18.519000000</td>\n",
       "      <td>2010/07/06 12:24:32.049000000</td>\n",
       "      <td>2010/08/09 17:54:20.000000000</td>\n",
       "      <td>2.008032e+09</td>\n",
       "      <td>ALUNO DE GRADUAÇÃO</td>\n",
       "    </tr>\n",
       "  </tbody>\n",
       "</table>\n",
       "</div>"
      ],
      "text/plain": [
       "   id_exemplar                codigo_barras            colecao  \\\n",
       "0           27  L000133_11/05/2018 08:57:56  Acervo Circulante   \n",
       "1           43                      L000154  Acervo Circulante   \n",
       "2           61  L000267_14/07/2017 09:31:00       Dissertações   \n",
       "3          100                      L144235  Acervo Circulante   \n",
       "4          100                      L144235  Acervo Circulante   \n",
       "\n",
       "                       biblioteca status_material  localizacao  \\\n",
       "0  Biblioteca Central Zila Mamede         REGULAR          691   \n",
       "1  Biblioteca Central Zila Mamede         REGULAR          616   \n",
       "2  Biblioteca Central Zila Mamede        ESPECIAL          690   \n",
       "3  Biblioteca Central Zila Mamede         REGULAR          650   \n",
       "4  Biblioteca Central Zila Mamede         REGULAR          650   \n",
       "\n",
       "   registro_sistema  id_emprestimo                 data_renovacao  \\\n",
       "0                37         818501                            NaN   \n",
       "1                59        2037061  2015/08/24 21:55:47.110000000   \n",
       "2                90        1212301                            NaN   \n",
       "3               153         775420  2010/05/31 00:35:54.869000000   \n",
       "4               153         800617  2010/07/21 11:39:18.519000000   \n",
       "\n",
       "                 data_emprestimo                 data_devolucao  \\\n",
       "0  2010/08/17 17:00:04.440000000  2010/08/17 17:09:15.000000000   \n",
       "1  2015/08/03 10:39:42.972000000  2015/10/19 08:52:30.000000000   \n",
       "2  2012/03/30 14:35:52.264000000  2012/04/02 17:06:11.000000000   \n",
       "3  2010/05/14 17:58:11.558000000  2010/06/17 19:34:11.000000000   \n",
       "4  2010/07/06 12:24:32.049000000  2010/08/09 17:54:20.000000000   \n",
       "\n",
       "   matricula_ou_siape tipo_vinculo_usuario  \n",
       "0        2.010060e+09   ALUNO DE GRADUAÇÃO  \n",
       "1        2.013034e+09   ALUNO DE GRADUAÇÃO  \n",
       "2        2.011096e+09   ALUNO DE GRADUAÇÃO  \n",
       "3        2.004286e+08   ALUNO DE GRADUAÇÃO  \n",
       "4        2.008032e+09   ALUNO DE GRADUAÇÃO  "
      ]
     },
     "execution_count": 13,
     "metadata": {},
     "output_type": "execute_result"
    }
   ],
   "source": [
    "dados_acervo = pd.merge(dados_exemplares, dados_emprestimos, on='codigo_barras', how='inner')\n",
    "dados_acervo.head()"
   ]
  },
  {
   "cell_type": "code",
   "execution_count": 14,
   "metadata": {},
   "outputs": [],
   "source": [
    "reordenando = ['id_emprestimo','colecao', 'biblioteca', 'status_material', 'localizacao', 'registro_sistema','data_emprestimo', 'data_devolucao','data_renovacao', 'matricula_ou_siape', 'tipo_vinculo_usuario']\n",
    "dados_acervo = dados_acervo[reordenando]"
   ]
  },
  {
   "cell_type": "code",
   "execution_count": 15,
   "metadata": {},
   "outputs": [
    {
     "data": {
      "text/plain": [
       "Index(['id_emprestimo', 'colecao', 'biblioteca', 'status_material',\n",
       "       'localizacao', 'registro_sistema', 'data_emprestimo', 'data_devolucao',\n",
       "       'data_renovacao', 'matricula_ou_siape', 'tipo_vinculo_usuario'],\n",
       "      dtype='object')"
      ]
     },
     "execution_count": 15,
     "metadata": {},
     "output_type": "execute_result"
    }
   ],
   "source": [
    "dados_acervo.columns"
   ]
  },
  {
   "cell_type": "markdown",
   "metadata": {},
   "source": [
    "# 3. Limpeza dos dados"
   ]
  },
  {
   "cell_type": "markdown",
   "metadata": {},
   "source": [
    "## 3.1. Excluindo duplicatas"
   ]
  },
  {
   "cell_type": "code",
   "execution_count": 16,
   "metadata": {},
   "outputs": [
    {
     "data": {
      "text/html": [
       "<div>\n",
       "<style scoped>\n",
       "    .dataframe tbody tr th:only-of-type {\n",
       "        vertical-align: middle;\n",
       "    }\n",
       "\n",
       "    .dataframe tbody tr th {\n",
       "        vertical-align: top;\n",
       "    }\n",
       "\n",
       "    .dataframe thead th {\n",
       "        text-align: right;\n",
       "    }\n",
       "</style>\n",
       "<table border=\"1\" class=\"dataframe\">\n",
       "  <thead>\n",
       "    <tr style=\"text-align: right;\">\n",
       "      <th></th>\n",
       "      <th>id_emprestimo</th>\n",
       "      <th>colecao</th>\n",
       "      <th>biblioteca</th>\n",
       "      <th>status_material</th>\n",
       "      <th>localizacao</th>\n",
       "      <th>registro_sistema</th>\n",
       "      <th>data_emprestimo</th>\n",
       "      <th>data_devolucao</th>\n",
       "      <th>data_renovacao</th>\n",
       "      <th>matricula_ou_siape</th>\n",
       "      <th>tipo_vinculo_usuario</th>\n",
       "    </tr>\n",
       "  </thead>\n",
       "  <tbody>\n",
       "    <tr>\n",
       "      <th>0</th>\n",
       "      <td>818501</td>\n",
       "      <td>Acervo Circulante</td>\n",
       "      <td>Biblioteca Central Zila Mamede</td>\n",
       "      <td>REGULAR</td>\n",
       "      <td>691</td>\n",
       "      <td>37</td>\n",
       "      <td>2010/08/17 17:00:04.440000000</td>\n",
       "      <td>2010/08/17 17:09:15.000000000</td>\n",
       "      <td>NaN</td>\n",
       "      <td>2.010060e+09</td>\n",
       "      <td>ALUNO DE GRADUAÇÃO</td>\n",
       "    </tr>\n",
       "    <tr>\n",
       "      <th>1</th>\n",
       "      <td>2037061</td>\n",
       "      <td>Acervo Circulante</td>\n",
       "      <td>Biblioteca Central Zila Mamede</td>\n",
       "      <td>REGULAR</td>\n",
       "      <td>616</td>\n",
       "      <td>59</td>\n",
       "      <td>2015/08/03 10:39:42.972000000</td>\n",
       "      <td>2015/10/19 08:52:30.000000000</td>\n",
       "      <td>2015/08/24 21:55:47.110000000</td>\n",
       "      <td>2.013034e+09</td>\n",
       "      <td>ALUNO DE GRADUAÇÃO</td>\n",
       "    </tr>\n",
       "    <tr>\n",
       "      <th>2</th>\n",
       "      <td>1212301</td>\n",
       "      <td>Dissertações</td>\n",
       "      <td>Biblioteca Central Zila Mamede</td>\n",
       "      <td>ESPECIAL</td>\n",
       "      <td>690</td>\n",
       "      <td>90</td>\n",
       "      <td>2012/03/30 14:35:52.264000000</td>\n",
       "      <td>2012/04/02 17:06:11.000000000</td>\n",
       "      <td>NaN</td>\n",
       "      <td>2.011096e+09</td>\n",
       "      <td>ALUNO DE GRADUAÇÃO</td>\n",
       "    </tr>\n",
       "    <tr>\n",
       "      <th>3</th>\n",
       "      <td>775420</td>\n",
       "      <td>Acervo Circulante</td>\n",
       "      <td>Biblioteca Central Zila Mamede</td>\n",
       "      <td>REGULAR</td>\n",
       "      <td>650</td>\n",
       "      <td>153</td>\n",
       "      <td>2010/05/14 17:58:11.558000000</td>\n",
       "      <td>2010/06/17 19:34:11.000000000</td>\n",
       "      <td>2010/05/31 00:35:54.869000000</td>\n",
       "      <td>2.004286e+08</td>\n",
       "      <td>ALUNO DE GRADUAÇÃO</td>\n",
       "    </tr>\n",
       "    <tr>\n",
       "      <th>4</th>\n",
       "      <td>800617</td>\n",
       "      <td>Acervo Circulante</td>\n",
       "      <td>Biblioteca Central Zila Mamede</td>\n",
       "      <td>REGULAR</td>\n",
       "      <td>650</td>\n",
       "      <td>153</td>\n",
       "      <td>2010/07/06 12:24:32.049000000</td>\n",
       "      <td>2010/08/09 17:54:20.000000000</td>\n",
       "      <td>2010/07/21 11:39:18.519000000</td>\n",
       "      <td>2.008032e+09</td>\n",
       "      <td>ALUNO DE GRADUAÇÃO</td>\n",
       "    </tr>\n",
       "    <tr>\n",
       "      <th>...</th>\n",
       "      <td>...</td>\n",
       "      <td>...</td>\n",
       "      <td>...</td>\n",
       "      <td>...</td>\n",
       "      <td>...</td>\n",
       "      <td>...</td>\n",
       "      <td>...</td>\n",
       "      <td>...</td>\n",
       "      <td>...</td>\n",
       "      <td>...</td>\n",
       "      <td>...</td>\n",
       "    </tr>\n",
       "    <tr>\n",
       "      <th>2072553</th>\n",
       "      <td>1692686</td>\n",
       "      <td>Acervo Circulante</td>\n",
       "      <td>Biblioteca Central Zila Mamede</td>\n",
       "      <td>ESPECIAL</td>\n",
       "      <td>978</td>\n",
       "      <td>267850</td>\n",
       "      <td>2014/02/19 08:45:53.369000000</td>\n",
       "      <td>2014/04/10 16:57:17.000000000</td>\n",
       "      <td>2014/03/08 20:51:53.033000000</td>\n",
       "      <td>2.013107e+09</td>\n",
       "      <td>ALUNO DE PÓS-GRADUAÇÃO</td>\n",
       "    </tr>\n",
       "    <tr>\n",
       "      <th>2072554</th>\n",
       "      <td>1749057</td>\n",
       "      <td>Acervo Circulante</td>\n",
       "      <td>Biblioteca Central Zila Mamede</td>\n",
       "      <td>ESPECIAL</td>\n",
       "      <td>978</td>\n",
       "      <td>267850</td>\n",
       "      <td>2014/05/06 17:58:20.611000000</td>\n",
       "      <td>2014/05/21 13:46:22.000000000</td>\n",
       "      <td>NaN</td>\n",
       "      <td>2.012945e+09</td>\n",
       "      <td>ALUNO DE GRADUAÇÃO</td>\n",
       "    </tr>\n",
       "    <tr>\n",
       "      <th>2072555</th>\n",
       "      <td>1777379</td>\n",
       "      <td>Acervo Circulante</td>\n",
       "      <td>Biblioteca Central Zila Mamede</td>\n",
       "      <td>ESPECIAL</td>\n",
       "      <td>978</td>\n",
       "      <td>267850</td>\n",
       "      <td>2014/07/18 10:49:01.626000000</td>\n",
       "      <td>2014/08/14 18:22:30.000000000</td>\n",
       "      <td>NaN</td>\n",
       "      <td>2.014116e+09</td>\n",
       "      <td>ALUNO DE PÓS-GRADUAÇÃO</td>\n",
       "    </tr>\n",
       "    <tr>\n",
       "      <th>2072556</th>\n",
       "      <td>1807999</td>\n",
       "      <td>Acervo Circulante</td>\n",
       "      <td>Biblioteca Central Zila Mamede</td>\n",
       "      <td>ESPECIAL</td>\n",
       "      <td>978</td>\n",
       "      <td>267850</td>\n",
       "      <td>2014/08/19 18:33:03.179000000</td>\n",
       "      <td>2014/09/03 16:02:11.000000000</td>\n",
       "      <td>NaN</td>\n",
       "      <td>2.010053e+09</td>\n",
       "      <td>ALUNO DE GRADUAÇÃO</td>\n",
       "    </tr>\n",
       "    <tr>\n",
       "      <th>2072557</th>\n",
       "      <td>1839233</td>\n",
       "      <td>Acervo Circulante</td>\n",
       "      <td>Biblioteca Central Zila Mamede</td>\n",
       "      <td>ESPECIAL</td>\n",
       "      <td>978</td>\n",
       "      <td>267850</td>\n",
       "      <td>2014/09/23 15:05:59.322000000</td>\n",
       "      <td>2014/10/13 17:15:46.000000000</td>\n",
       "      <td>2014/10/08 11:40:26.797000000</td>\n",
       "      <td>2.010053e+09</td>\n",
       "      <td>ALUNO DE GRADUAÇÃO</td>\n",
       "    </tr>\n",
       "  </tbody>\n",
       "</table>\n",
       "<p>2072433 rows × 11 columns</p>\n",
       "</div>"
      ],
      "text/plain": [
       "         id_emprestimo            colecao                      biblioteca  \\\n",
       "0               818501  Acervo Circulante  Biblioteca Central Zila Mamede   \n",
       "1              2037061  Acervo Circulante  Biblioteca Central Zila Mamede   \n",
       "2              1212301       Dissertações  Biblioteca Central Zila Mamede   \n",
       "3               775420  Acervo Circulante  Biblioteca Central Zila Mamede   \n",
       "4               800617  Acervo Circulante  Biblioteca Central Zila Mamede   \n",
       "...                ...                ...                             ...   \n",
       "2072553        1692686  Acervo Circulante  Biblioteca Central Zila Mamede   \n",
       "2072554        1749057  Acervo Circulante  Biblioteca Central Zila Mamede   \n",
       "2072555        1777379  Acervo Circulante  Biblioteca Central Zila Mamede   \n",
       "2072556        1807999  Acervo Circulante  Biblioteca Central Zila Mamede   \n",
       "2072557        1839233  Acervo Circulante  Biblioteca Central Zila Mamede   \n",
       "\n",
       "        status_material  localizacao  registro_sistema  \\\n",
       "0               REGULAR          691                37   \n",
       "1               REGULAR          616                59   \n",
       "2              ESPECIAL          690                90   \n",
       "3               REGULAR          650               153   \n",
       "4               REGULAR          650               153   \n",
       "...                 ...          ...               ...   \n",
       "2072553        ESPECIAL          978            267850   \n",
       "2072554        ESPECIAL          978            267850   \n",
       "2072555        ESPECIAL          978            267850   \n",
       "2072556        ESPECIAL          978            267850   \n",
       "2072557        ESPECIAL          978            267850   \n",
       "\n",
       "                       data_emprestimo                 data_devolucao  \\\n",
       "0        2010/08/17 17:00:04.440000000  2010/08/17 17:09:15.000000000   \n",
       "1        2015/08/03 10:39:42.972000000  2015/10/19 08:52:30.000000000   \n",
       "2        2012/03/30 14:35:52.264000000  2012/04/02 17:06:11.000000000   \n",
       "3        2010/05/14 17:58:11.558000000  2010/06/17 19:34:11.000000000   \n",
       "4        2010/07/06 12:24:32.049000000  2010/08/09 17:54:20.000000000   \n",
       "...                                ...                            ...   \n",
       "2072553  2014/02/19 08:45:53.369000000  2014/04/10 16:57:17.000000000   \n",
       "2072554  2014/05/06 17:58:20.611000000  2014/05/21 13:46:22.000000000   \n",
       "2072555  2014/07/18 10:49:01.626000000  2014/08/14 18:22:30.000000000   \n",
       "2072556  2014/08/19 18:33:03.179000000  2014/09/03 16:02:11.000000000   \n",
       "2072557  2014/09/23 15:05:59.322000000  2014/10/13 17:15:46.000000000   \n",
       "\n",
       "                        data_renovacao  matricula_ou_siape  \\\n",
       "0                                  NaN        2.010060e+09   \n",
       "1        2015/08/24 21:55:47.110000000        2.013034e+09   \n",
       "2                                  NaN        2.011096e+09   \n",
       "3        2010/05/31 00:35:54.869000000        2.004286e+08   \n",
       "4        2010/07/21 11:39:18.519000000        2.008032e+09   \n",
       "...                                ...                 ...   \n",
       "2072553  2014/03/08 20:51:53.033000000        2.013107e+09   \n",
       "2072554                            NaN        2.012945e+09   \n",
       "2072555                            NaN        2.014116e+09   \n",
       "2072556                            NaN        2.010053e+09   \n",
       "2072557  2014/10/08 11:40:26.797000000        2.010053e+09   \n",
       "\n",
       "           tipo_vinculo_usuario  \n",
       "0            ALUNO DE GRADUAÇÃO  \n",
       "1            ALUNO DE GRADUAÇÃO  \n",
       "2            ALUNO DE GRADUAÇÃO  \n",
       "3            ALUNO DE GRADUAÇÃO  \n",
       "4            ALUNO DE GRADUAÇÃO  \n",
       "...                         ...  \n",
       "2072553  ALUNO DE PÓS-GRADUAÇÃO  \n",
       "2072554      ALUNO DE GRADUAÇÃO  \n",
       "2072555  ALUNO DE PÓS-GRADUAÇÃO  \n",
       "2072556      ALUNO DE GRADUAÇÃO  \n",
       "2072557      ALUNO DE GRADUAÇÃO  \n",
       "\n",
       "[2072433 rows x 11 columns]"
      ]
     },
     "execution_count": 16,
     "metadata": {},
     "output_type": "execute_result"
    }
   ],
   "source": [
    "dados_acervo.drop_duplicates()"
   ]
  },
  {
   "cell_type": "markdown",
   "metadata": {},
   "source": [
    "## 3.2. Atribuindo categorias para a variável \"localização\""
   ]
  },
  {
   "cell_type": "code",
   "execution_count": 17,
   "metadata": {},
   "outputs": [],
   "source": [
    "# 1. Definindo os intervalos:\n",
    "intervalos = {\n",
    "    (0,99): 'Generalidades. Ciência e conhecimento',\n",
    "    (100,199): 'Filosofia e psicologia',\n",
    "    (200,299): 'Religião',\n",
    "    (300,399): 'Ciências sociais',\n",
    "    (400,499): 'Classe vaga. Provisoriamente não ocupada',\n",
    "    (500,599): 'Matemática e ciências naturais',\n",
    "    (600,699): 'Ciências aplicadas',\n",
    "    (700,799): 'Belas artes',\n",
    "    (800,899): 'Linguagem. Língua. Linguística',\n",
    "    (900,999): 'Geografia. Biografia. História',\n",
    "}\n",
    "\n",
    "# 2. Função para mapear os números para categorias\n",
    "def categorizar (localizacao):\n",
    "    for intervalo, categoria in intervalos.items():\n",
    "        if intervalo[0] <= localizacao <= intervalo [1]:\n",
    "            return categoria\n",
    "    return None\n",
    "\n",
    "# 3. Aplicando a função categorizar\n",
    "dados_acervo['localizacao'] = dados_acervo['localizacao'].apply(categorizar)"
   ]
  },
  {
   "cell_type": "code",
   "execution_count": 18,
   "metadata": {},
   "outputs": [
    {
     "data": {
      "text/plain": [
       "localizacao\n",
       "Ciências aplicadas                       1425496\n",
       "Ciências sociais                          369543\n",
       "Matemática e ciências naturais             68745\n",
       "Generalidades. Ciência e conhecimento      62525\n",
       "Religião                                   62295\n",
       "Filosofia e psicologia                     60564\n",
       "Geografia. Biografia. História              7989\n",
       "Belas artes                                 7911\n",
       "Linguagem. Língua. Linguística              7490\n",
       "Name: count, dtype: int64"
      ]
     },
     "execution_count": 18,
     "metadata": {},
     "output_type": "execute_result"
    }
   ],
   "source": [
    "dados_acervo['localizacao'].value_counts()"
   ]
  },
  {
   "cell_type": "code",
   "execution_count": 19,
   "metadata": {},
   "outputs": [
    {
     "data": {
      "text/plain": [
       "<Axes: ylabel='localizacao'>"
      ]
     },
     "execution_count": 19,
     "metadata": {},
     "output_type": "execute_result"
    },
    {
     "data": {
      "image/png": "[encoded data removed]",
      "text/plain": [
       "<Figure size 640x480 with 1 Axes>"
      ]
     },
     "metadata": {},
     "output_type": "display_data"
    }
   ],
   "source": [
    "dados_acervo['localizacao'].value_counts().plot(kind='barh')"
   ]
  },
  {
   "cell_type": "markdown",
   "metadata": {},
   "source": [
    "# 4. Análise exploratória dos dados"
   ]
  },
  {
   "cell_type": "markdown",
   "metadata": {},
   "source": [
    "## 4.1. Shape"
   ]
  },
  {
   "cell_type": "code",
   "execution_count": 20,
   "metadata": {},
   "outputs": [
    {
     "data": {
      "text/plain": [
       "(2072558, 11)"
      ]
     },
     "execution_count": 20,
     "metadata": {},
     "output_type": "execute_result"
    }
   ],
   "source": [
    "# Verificando o tamanho do dataframe\n",
    "dados_acervo.shape"
   ]
  },
  {
   "cell_type": "markdown",
   "metadata": {},
   "source": [
    "## 4.2. Informações gerais sobre os dados"
   ]
  },
  {
   "cell_type": "code",
   "execution_count": 21,
   "metadata": {},
   "outputs": [
    {
     "name": "stdout",
     "output_type": "stream",
     "text": [
      "<class 'pandas.core.frame.DataFrame'>\n",
      "RangeIndex: 2072558 entries, 0 to 2072557\n",
      "Data columns (total 11 columns):\n",
      " #   Column                Dtype  \n",
      "---  ------                -----  \n",
      " 0   id_emprestimo         int64  \n",
      " 1   colecao               object \n",
      " 2   biblioteca            object \n",
      " 3   status_material       object \n",
      " 4   localizacao           object \n",
      " 5   registro_sistema      int64  \n",
      " 6   data_emprestimo       object \n",
      " 7   data_devolucao        object \n",
      " 8   data_renovacao        object \n",
      " 9   matricula_ou_siape    float64\n",
      " 10  tipo_vinculo_usuario  object \n",
      "dtypes: float64(1), int64(2), object(8)\n",
      "memory usage: 173.9+ MB\n"
     ]
    }
   ],
   "source": [
    "dados_acervo.info()"
   ]
  },
  {
   "cell_type": "markdown",
   "metadata": {},
   "source": [
    "## 4.3. Correção dos tipos de dados"
   ]
  },
  {
   "cell_type": "code",
   "execution_count": 22,
   "metadata": {},
   "outputs": [
    {
     "name": "stdout",
     "output_type": "stream",
     "text": [
      "<class 'pandas.core.frame.DataFrame'>\n",
      "RangeIndex: 2072558 entries, 0 to 2072557\n",
      "Data columns (total 11 columns):\n",
      " #   Column                Dtype  \n",
      "---  ------                -----  \n",
      " 0   id_emprestimo         int64  \n",
      " 1   colecao               object \n",
      " 2   biblioteca            object \n",
      " 3   status_material       object \n",
      " 4   localizacao           object \n",
      " 5   registro_sistema      int64  \n",
      " 6   data_emprestimo       object \n",
      " 7   data_devolucao        object \n",
      " 8   data_renovacao        object \n",
      " 9   matricula_ou_siape    float64\n",
      " 10  tipo_vinculo_usuario  object \n",
      "dtypes: float64(1), int64(2), object(8)\n",
      "memory usage: 173.9+ MB\n"
     ]
    }
   ],
   "source": [
    "colunas_data = [\"data_renovacao\",\"data_devolucao\",\"data_emprestimo\"]\n",
    "\n",
    "dados_acervo.info()\n",
    "\n",
    "# Convertendo as colunas para datetime\n",
    "dados_acervo[colunas_data] = dados_acervo[colunas_data].apply(pd.to_datetime, format=\"%Y/%m/%d %H:%M:%S.%f\")\n",
    "\n"
   ]
  },
  {
   "cell_type": "markdown",
   "metadata": {},
   "source": [
    "## 4.4. Convertendo dados para o tipo Categórico"
   ]
  },
  {
   "cell_type": "code",
   "execution_count": 23,
   "metadata": {},
   "outputs": [],
   "source": [
    "dados_categoricos = ['colecao', 'biblioteca','status_material','tipo_vinculo_usuario']\n",
    "\n",
    "dados_acervo[dados_categoricos] = dados_acervo[dados_categoricos].astype('category')"
   ]
  },
  {
   "cell_type": "code",
   "execution_count": 24,
   "metadata": {},
   "outputs": [
    {
     "name": "stdout",
     "output_type": "stream",
     "text": [
      "<class 'pandas.core.frame.DataFrame'>\n",
      "RangeIndex: 2072558 entries, 0 to 2072557\n",
      "Data columns (total 11 columns):\n",
      " #   Column                Dtype         \n",
      "---  ------                -----         \n",
      " 0   id_emprestimo         int64         \n",
      " 1   colecao               category      \n",
      " 2   biblioteca            category      \n",
      " 3   status_material       category      \n",
      " 4   localizacao           object        \n",
      " 5   registro_sistema      int64         \n",
      " 6   data_emprestimo       datetime64[ns]\n",
      " 7   data_devolucao        datetime64[ns]\n",
      " 8   data_renovacao        datetime64[ns]\n",
      " 9   matricula_ou_siape    float64       \n",
      " 10  tipo_vinculo_usuario  category      \n",
      "dtypes: category(4), datetime64[ns](3), float64(1), int64(2), object(1)\n",
      "memory usage: 118.6+ MB\n"
     ]
    }
   ],
   "source": [
    "dados_acervo.info()"
   ]
  },
  {
   "cell_type": "markdown",
   "metadata": {},
   "source": [
    "## 4.5. Convertendo a variável matricula_ou_siape para string"
   ]
  },
  {
   "cell_type": "code",
   "execution_count": 25,
   "metadata": {},
   "outputs": [
    {
     "name": "stdout",
     "output_type": "stream",
     "text": [
      "<class 'pandas.core.frame.DataFrame'>\n",
      "RangeIndex: 2072558 entries, 0 to 2072557\n",
      "Data columns (total 11 columns):\n",
      " #   Column                Dtype         \n",
      "---  ------                -----         \n",
      " 0   id_emprestimo         int64         \n",
      " 1   colecao               category      \n",
      " 2   biblioteca            category      \n",
      " 3   status_material       category      \n",
      " 4   localizacao           object        \n",
      " 5   registro_sistema      int64         \n",
      " 6   data_emprestimo       datetime64[ns]\n",
      " 7   data_devolucao        datetime64[ns]\n",
      " 8   data_renovacao        datetime64[ns]\n",
      " 9   matricula_ou_siape    string        \n",
      " 10  tipo_vinculo_usuario  category      \n",
      "dtypes: category(4), datetime64[ns](3), int64(2), object(1), string(1)\n",
      "memory usage: 118.6+ MB\n"
     ]
    }
   ],
   "source": [
    "dados_acervo['matricula_ou_siape'] = dados_acervo['matricula_ou_siape'].astype('string')\n",
    "dados_acervo.info()"
   ]
  },
  {
   "cell_type": "markdown",
   "metadata": {},
   "source": [
    "## 4.6. Excluindo a coluna registro_sistema"
   ]
  },
  {
   "cell_type": "code",
   "execution_count": 26,
   "metadata": {},
   "outputs": [],
   "source": [
    "dados_acervo.drop(columns=['registro_sistema'], inplace=True)"
   ]
  },
  {
   "cell_type": "code",
   "execution_count": 27,
   "metadata": {},
   "outputs": [
    {
     "name": "stdout",
     "output_type": "stream",
     "text": [
      "<class 'pandas.core.frame.DataFrame'>\n",
      "RangeIndex: 2072558 entries, 0 to 2072557\n",
      "Data columns (total 10 columns):\n",
      " #   Column                Dtype         \n",
      "---  ------                -----         \n",
      " 0   id_emprestimo         int64         \n",
      " 1   colecao               category      \n",
      " 2   biblioteca            category      \n",
      " 3   status_material       category      \n",
      " 4   localizacao           object        \n",
      " 5   data_emprestimo       datetime64[ns]\n",
      " 6   data_devolucao        datetime64[ns]\n",
      " 7   data_renovacao        datetime64[ns]\n",
      " 8   matricula_ou_siape    string        \n",
      " 9   tipo_vinculo_usuario  category      \n",
      "dtypes: category(4), datetime64[ns](3), int64(1), object(1), string(1)\n",
      "memory usage: 102.8+ MB\n"
     ]
    }
   ],
   "source": [
    "dados_acervo.info()"
   ]
  },
  {
   "cell_type": "markdown",
   "metadata": {},
   "source": [
    "## 4.7. Verificando valores nulos"
   ]
  },
  {
   "cell_type": "code",
   "execution_count": 28,
   "metadata": {},
   "outputs": [
    {
     "data": {
      "text/plain": [
       "id_emprestimo                 0\n",
       "colecao                       0\n",
       "biblioteca                    0\n",
       "status_material               0\n",
       "localizacao                   0\n",
       "data_emprestimo               0\n",
       "data_devolucao             6178\n",
       "data_renovacao          1162088\n",
       "matricula_ou_siape         2893\n",
       "tipo_vinculo_usuario          0\n",
       "dtype: int64"
      ]
     },
     "execution_count": 28,
     "metadata": {},
     "output_type": "execute_result"
    }
   ],
   "source": [
    "dados_acervo.isnull().sum()"
   ]
  },
  {
   "cell_type": "code",
   "execution_count": 29,
   "metadata": {},
   "outputs": [
    {
     "data": {
      "text/plain": [
       "colecao\n",
       "Acervo Circulante                        2053156\n",
       "Multimeios                                  7954\n",
       "Monografias                                 4021\n",
       "Dissertações                                2406\n",
       "Obras de Referência                         1954\n",
       "Publicações de Autores do RN                 866\n",
       "Publicações da UFRN                          764\n",
       "Teses                                        714\n",
       "Folhetos                                     271\n",
       "Necessidades Educacionais Específicas        130\n",
       "Trabalho Acadêmico                           115\n",
       "Eventos                                      101\n",
       "Coleção Mossoroense                           44\n",
       "Coleção Zila Mamede                           30\n",
       "Literatura de Cordel                          24\n",
       "Obras Raras                                    8\n",
       "Name: count, dtype: int64"
      ]
     },
     "execution_count": 29,
     "metadata": {},
     "output_type": "execute_result"
    }
   ],
   "source": [
    "dados_acervo['colecao'].value_counts()"
   ]
  },
  {
   "cell_type": "code",
   "execution_count": 30,
   "metadata": {},
   "outputs": [
    {
     "data": {
      "text/plain": [
       "biblioteca\n",
       "Biblioteca Central Zila Mamede                                                              1426148\n",
       "Biblioteca Setorial do Centro Ciências da Saúde - CCS                                        118616\n",
       "Biblioteca Setorial da Faculdade de Ciências da Saúde do Trairi - FACISA - Santa Cruz         77609\n",
       "Biblioteca Setorial Prof. Alberto Moreira Campos - ­Departamento de Odontologia               66452\n",
       "Biblioteca Setorial Profª. Maria Lúcia da Costa Bezerra - ­CERES­ - Caicó                     61478\n",
       "Biblioteca Setorial Bertha Cruz Enders - ­Escola de Saúde da UFRN - ESUFRN                    46040\n",
       "Biblioteca Setorial do Centro de Ciências Humanas, Letras e Artes - CCHLA                     40746\n",
       "Biblioteca Setorial Dr. Paulo Bezerra - EMCM/RN - Caicó                                       32097\n",
       "Biblioteca Setorial Profª. Maria José Mamede Galvão - FELCS - Currais Novos                   29089\n",
       "Biblioteca Setorial Prof. Rodolfo Helinski - Escola Agrícola de Jundiaí - EAJ  - Macaiba      27220\n",
       "Biblioteca Setorial Prof. Francisco Gurgel De Azevedo - Instituto Química - IQ                26923\n",
       "Biblioteca Setorial do Núcleo de Educação da Infância - NEI                                   23656\n",
       "Biblioteca Setorial Prof. Ronaldo Xavier de Arruda - CCET                                     22749\n",
       "Biblioteca Setorial Pe. Jaime Diniz - Escola de Música - EMUFRN                               21476\n",
       "Biblioteca Setorial do Departamento de Artes - DEART                                          17099\n",
       "Biblioteca Setorial Prof. Leopoldo Nelson - ­Centro de Biociências - CB                       12900\n",
       "Biblioteca Setorial do Centro Ciências Sociais Aplicadas - CCSA                               10533\n",
       "Biblioteca Setorial Prof. Dr. Marcelo Bezerra de Melo Tinôco - DARQ - ­CT                      5057\n",
       "Biblioteca Setorial Prof. Horácio Nicolas Solimo - ­ Engenharia Química - EQ - CT              4098\n",
       "Biblioteca Setorial Moacyr de Góes - CE                                                        1036\n",
       "Biblioteca Setorial Árvore do Conhecimento - Instituto do Cérebro - ICe                         919\n",
       "Biblioteca Setorial do Núcleo de Ensino Superior do Agreste - NESA - Nova Cruz                  617\n",
       "Name: count, dtype: int64"
      ]
     },
     "execution_count": 30,
     "metadata": {},
     "output_type": "execute_result"
    }
   ],
   "source": [
    "dados_acervo['biblioteca'].value_counts()"
   ]
  },
  {
   "cell_type": "code",
   "execution_count": 35,
   "metadata": {},
   "outputs": [
    {
     "data": {
      "text/plain": [
       "<Axes: ylabel='biblioteca'>"
      ]
     },
     "execution_count": 35,
     "metadata": {},
     "output_type": "execute_result"
    },
    {
     "data": {
      "image/png": "[encoded data removed]",
      "text/plain": [
       "<Figure size 640x480 with 1 Axes>"
      ]
     },
     "metadata": {},
     "output_type": "display_data"
    }
   ],
   "source": [
    "dados_acervo['biblioteca'].value_counts().plot(kind='barh')"
   ]
  },
  {
   "cell_type": "code",
   "execution_count": 32,
   "metadata": {},
   "outputs": [
    {
     "data": {
      "text/plain": [
       "status_material\n",
       "REGULAR        2000759\n",
       "ESPECIAL         69763\n",
       "NÃO CIRCULA       2036\n",
       "Name: count, dtype: int64"
      ]
     },
     "execution_count": 32,
     "metadata": {},
     "output_type": "execute_result"
    }
   ],
   "source": [
    "dados_acervo['status_material'].value_counts()"
   ]
  },
  {
   "cell_type": "code",
   "execution_count": 33,
   "metadata": {},
   "outputs": [
    {
     "data": {
      "text/plain": [
       "<Axes: ylabel='status_material'>"
      ]
     },
     "execution_count": 33,
     "metadata": {},
     "output_type": "execute_result"
    },
    {
     "data": {
      "image/png": "[encoded data removed]",
      "text/plain": [
       "<Figure size 640x480 with 1 Axes>"
      ]
     },
     "metadata": {},
     "output_type": "display_data"
    }
   ],
   "source": [
    "dados_acervo['status_material'].value_counts().plot(kind='barh')"
   ]
  }
 ],
 "metadata": {
  "kernelspec": {
   "display_name": "venv",
   "language": "python",
   "name": "python3"
  },
  "language_info": {
   "codemirror_mode": {
    "name": "ipython",
    "version": 3
   },
   "file_extension": ".py",
   "mimetype": "text/x-python",
   "name": "python",
   "nbconvert_exporter": "python",
   "pygments_lexer": "ipython3",
   "version": "3.12.3"
  }
 },
 "nbformat": 4,
 "nbformat_minor": 2
}
